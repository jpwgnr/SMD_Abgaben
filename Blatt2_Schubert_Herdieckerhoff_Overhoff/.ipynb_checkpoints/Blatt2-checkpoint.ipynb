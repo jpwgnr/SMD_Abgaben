{
 "cells": [
  {
   "cell_type": "markdown",
   "metadata": {},
   "source": [
    "# Blatt 2 \n",
    "\n",
    "## Nr. 1 \n",
    "\n",
    "Da in allen Aufgabenteilen mit zwei Würfeln gewürfelt wurde. Somit ergibt sich dann als Wahrscheinlichkeit für einen einzigen beliebigen Wurf mit einem Würfel $P(\\text{ein Würfel, beliebiges Ergebnis})= \\frac{1}{6}$ und für einen Wurf mit zwei Würfeln ergibt sich dann $P(\\text{zwei Würfel, beliebiges Ergebnis})= \\frac{1}{36}$. Diese Annahme wurde in den folgenden Teilaufgaben benutzt. "
   ]
  },
  {
   "cell_type": "markdown",
   "metadata": {},
   "source": [
    "#### a) $P(W_\\text{rot} + W_\\text{blau} = 9) =\\\\P(W_\\text{rot}= 3 ,W_\\text{blau} = 6) + P(W_\\text{rot}= 4 ,W_\\text{blau} = 5) + P(W_\\text{rot}= 5 ,W_\\text{blau} = 4) + P(W_\\text{rot}= 6 ,W_\\text{blau} = 3)\\\\= \\frac{4}{36} = \\frac{1}{9}$"
   ]
  },
  {
   "cell_type": "markdown",
   "metadata": {},
   "source": [
    "#### b) $P(W_\\text{rot} + W_\\text{blau} \\geq 9) = \\\\P(W_\\text{rot}= 3 ,W_\\text{blau} = 6) + P(W_\\text{rot}= 4 ,W_\\text{blau} = 6) + P(W_\\text{rot}= 5 ,W_\\text{blau} = 6) + P(W_\\text{rot}= 6 ,W_\\text{blau} = 6) + \\\\P(W_\\text{rot}= 4 ,W_\\text{blau} = 5) + P(W_\\text{rot}= 5 ,W_\\text{blau} = 5) + P(W_\\text{rot}= 6 ,W_\\text{blau} = 5) + \\\\P(W_\\text{rot}= 5 ,W_\\text{blau} = 4) + P(W_\\text{rot}= 6 ,W_\\text{blau} = 4) + \\\\P(W_\\text{rot}= 6 ,W_\\text{blau} = 3) \\\\= \\frac{10}{36} = \\frac{5}{18}$"
   ]
  },
  {
   "cell_type": "markdown",
   "metadata": {},
   "source": [
    "#### c) $P(W_\\text{rot}=4, W_\\text{blau}=5 \\lor W_\\text{rot}=5, W_\\text{blau}=4) =\\\\ P(W_\\text{rot}= 4 ,W_\\text{blau} = 5) + P(W_\\text{rot}= 5 ,W_\\text{blau} = 4)\\\\= \\frac{2}{36} = \\frac{1}{18}$"
   ]
  },
  {
   "cell_type": "markdown",
   "metadata": {},
   "source": [
    "#### d) $P(W_\\text{rot}=4, W_\\text{blau}=5) = \\frac{1}{36}$"
   ]
  },
  {
   "cell_type": "markdown",
   "metadata": {},
   "source": [
    "In den folgenden Aufgaben steht schon fest, dass der rote Würfel eine $4$ zeigt, insofern wird dann quasi nur noch ein einzelner Wurf des blauen Würfels betrachtet."
   ]
  },
  {
   "cell_type": "markdown",
   "metadata": {},
   "source": [
    "#### e) $P(W_\\text{rot} + W_\\text{blau} = 9) \\\\= P(W_\\text{blau} = 5)\\\\= \\frac{1}{6} $"
   ]
  },
  {
   "cell_type": "markdown",
   "metadata": {},
   "source": [
    "#### f) $P(W_\\text{rot} + W_\\text{blau} \\geq 9) \\\\= \n",
    "P(W_\\text{blau} = 5) + P(W_\\text{blau} = 6) \\\\= \\frac{2}{6} = \\frac{1}{3}$"
   ]
  },
  {
   "cell_type": "markdown",
   "metadata": {},
   "source": [
    "#### g) $P(W_\\text{rot}= 4, W_\\text{blau} = 5) \\\\= P(W_\\text{blau} = 5) \\\\= \\frac{1}{6}$"
   ]
  },
  {
   "cell_type": "markdown",
   "metadata": {},
   "source": [
    "# Aufgabe 2\n",
    "\n",
    "## Bestimmung der Normalisierungskonstante\n",
    "\n",
    "Gegeben war \n",
    "\\begin{align}\n",
    "    f(v)=N \\cdot exp\\left(\\frac{m v^2}{2k_\\text{B}T}\\right)4 \\pi v^2 \\,.\n",
    "\\end{align}\n",
    "Mit der Bedingung\n",
    "\\begin{align}\n",
    "    \\int_{0}^{\\infty}f(v)\\,\\text{d}v=1\n",
    "\\end{align}\n",
    "folgt dann:\n",
    "\\begin{align}\n",
    "    \\frac{1}{4\\pi N}&=\\int_0^{\\infty} \\exp\\left(\\frac{m v^2}{2k_\\text{B}T}\\right) v^2 \\, \\text{d} v \\\\\n",
    "    \\frac{1}{4\\pi N}&=-2k_\\text{B}T \\frac{\\text{d}}{\\text{d}m} \\int_{0}^{\\infty}\\exp\\left(\\frac{m v^2}{2k_\\text{B}T}\\right) \\,\\text{d}v\\\\\n",
    "    \\frac{1}{4\\pi N}&=-2k_\\text{B}T \\frac{\\text{d}}{\\text{d}m} \\sqrt{\\frac{2k_\\text{B}T}{m}} \\int_{0}^{\\infty} \\exp(-u^2)\\, \\text{d} u\\\\\n",
    "    \\frac{1}{4\\pi N}&=-2k_\\text{B}T \\frac{\\text{d}}{\\text{d}m} \\sqrt{\\frac{2k_\\text{B}T}{m}} \\frac{\\sqrt{\\pi}}{2}\\\\\n",
    "    \\frac{1}{N}&=8 \\pi k_\\text{B}T \\sqrt{\\frac{\\pi k_\\text{B} t}{2}} \\frac{1}{2m^{3/2}}=\\left(\\frac{2\\pi k_\\text{B} T}{m}\\right)^{3/2} \\\\\n",
    "    N&=\\left(\\frac{m}{2 \\pi k_\\text{B} T}\\right)^{3/2}\n",
    "\\end{align}\n",
    "\n",
    "## Aufgabe 2a)\n",
    "Die wahrscheinlichste Geschwindigkeit $v_m$ entspricht dem Maximum der Wahrscheinlichkeitsdichtefunktion der Geschwindigkeit. Die erste Ableitung muss also null sein:\n",
    "\n",
    "\\begin{align}\n",
    "    \\frac{\\text{d}f(v)}{\\text{d}v}&=4 \\pi N v \\exp\\left(\\frac{m v^2}{2k_\\text{B}T}\\right)\\left(2-\\frac{mv^2}{k_\\text{B}T}\\right) \\\\\n",
    "    \\rightarrow 2&=\\frac{mv^2}{k_\\text{B}T} \\\\\n",
    "    \\rightarrow v^2&= \\frac{2k_\\text{B}T}{m} \\\\\n",
    "    \\rightarrow v_m&=\\sqrt{\\frac{2k_\\text{B}T}{m}} \n",
    "\\end{align}\n",
    "\n",
    "Damit kann man $f(v)$ umschreiben zu:\n",
    "\\begin{equation}\n",
    "    f(v)=\\frac{4}{\\sqrt{\\pi}}\\frac{1}{v_m^3} v^2 \\exp\\left(-\\left(\\frac{v}{v_m}\\right)^2\\right)\n",
    "\\end{equation}\n",
    "\n",
    "## Aufgabe 2b)\n",
    "Gesucht ist der Mittelwert $\\langle v \\rangle$ der Geschwindigkeit.\n",
    "\n",
    "\\begin{align}\n",
    "    \\langle v \\rangle &= \\int_0^{\\infty} v\\, f(v)\\, \\text{d}v \\\\\n",
    "    &=\\frac{4}{\\sqrt{\\pi}\\,v_m^3} \\int_0^{\\infty} v^3 \\exp\\left(-\\left(\\frac{v}{v_m}\\right)^2\\right) \\\\\n",
    "    &= \\frac{4}{\\sqrt{\\pi}\\,v_m^3} \\frac{v_m^4}{2} \\\\\n",
    "    &=\\frac{2 v_m}{\\sqrt{\\pi}}\n",
    "\\end{align}\n",
    "\n",
    "## Aufgabe 2c)\n",
    "Gesucht ist der Median $v_{0,5}$ der Geschwindigkeitsverteilung. Dieser kann berechnet werden durch \n",
    "\\begin{equation}\n",
    "    \\frac{1}{2}=\\int_0^{v_{0,5}}f(v)\\, \\text{d}v=\\frac{4}{\\sqrt{\\pi}v_m^3}\\int_0^{v_{0,5}} v^2 \\exp\\left(-\\left(\\frac{v}{v_m}\\right)^2\\right)\\, \\text{d}v\n",
    "\\end{equation}\n",
    "Umformungen ergeben\n",
    "\\begin{equation}\n",
    "    1=\\frac{8}{\\sqrt{\\pi}} \\int_0^{v_{0,5}} u^2 exp(-u^2)\\, \\text{d}u\n",
    "\\end{equation}\n",
    "Das muss jetzt numerisch gelöst werden."
   ]
  },
  {
   "cell_type": "code",
   "execution_count": 112,
   "metadata": {},
   "outputs": [
    {
     "ename": "ValueError",
     "evalue": "The truth value of an array with more than one element is ambiguous. Use a.any() or a.all()",
     "output_type": "error",
     "traceback": [
      "\u001b[0;31m-----------------------------------------\u001b[0m",
      "\u001b[0;31mValueError\u001b[0mTraceback (most recent call last)",
      "\u001b[0;32m<ipython-input-112-97329de0e994>\u001b[0m in \u001b[0;36m<module>\u001b[0;34m()\u001b[0m\n\u001b[1;32m     10\u001b[0m \u001b[0;34m\u001b[0m\u001b[0m\n\u001b[1;32m     11\u001b[0m \u001b[0;34m\u001b[0m\u001b[0m\n\u001b[0;32m---> 12\u001b[0;31m \u001b[0mprint\u001b[0m\u001b[0;34m(\u001b[0m\u001b[0mquad\u001b[0m\u001b[0;34m(\u001b[0m\u001b[0mfunc\u001b[0m\u001b[0;34m,\u001b[0m \u001b[0;36m0\u001b[0m\u001b[0;34m,\u001b[0m \u001b[0mv\u001b[0m\u001b[0;34m[\u001b[0m\u001b[0mn\u001b[0m\u001b[0;34m]\u001b[0m\u001b[0;34m)\u001b[0m\u001b[0;34m[\u001b[0m\u001b[0;36m0\u001b[0m\u001b[0;34m]\u001b[0m\u001b[0;34m)\u001b[0m\u001b[0;34m\u001b[0m\u001b[0m\n\u001b[0m\u001b[1;32m     13\u001b[0m \u001b[0;34m\u001b[0m\u001b[0m\n\u001b[1;32m     14\u001b[0m \u001b[0mv_bigger_than_median\u001b[0m \u001b[0;34m=\u001b[0m \u001b[0mv\u001b[0m\u001b[0;34m[\u001b[0m\u001b[0mquad\u001b[0m\u001b[0;34m(\u001b[0m\u001b[0mfunc\u001b[0m\u001b[0;34m,\u001b[0m \u001b[0;36m0\u001b[0m\u001b[0;34m,\u001b[0m \u001b[0mv\u001b[0m\u001b[0;34m[\u001b[0m\u001b[0mn\u001b[0m\u001b[0;34m]\u001b[0m\u001b[0;34m)\u001b[0m\u001b[0;34m[\u001b[0m\u001b[0;36m0\u001b[0m\u001b[0;34m]\u001b[0m \u001b[0;34m>\u001b[0m \u001b[0msolution\u001b[0m\u001b[0;34m]\u001b[0m\u001b[0;34m\u001b[0m\u001b[0m\n",
      "\u001b[0;32m~/anaconda3/lib/python3.6/site-packages/scipy/integrate/quadpack.py\u001b[0m in \u001b[0;36mquad\u001b[0;34m(func, a, b, args, full_output, epsabs, epsrel, limit, points, weight, wvar, wopts, maxp1, limlst)\u001b[0m\n\u001b[1;32m    335\u001b[0m \u001b[0;34m\u001b[0m\u001b[0m\n\u001b[1;32m    336\u001b[0m     \u001b[0;31m# check the limits of integration: \\int_a^b, expect a < b\u001b[0m\u001b[0;34m\u001b[0m\u001b[0;34m\u001b[0m\u001b[0m\n\u001b[0;32m--> 337\u001b[0;31m     \u001b[0mflip\u001b[0m\u001b[0;34m,\u001b[0m \u001b[0ma\u001b[0m\u001b[0;34m,\u001b[0m \u001b[0mb\u001b[0m \u001b[0;34m=\u001b[0m \u001b[0mb\u001b[0m \u001b[0;34m<\u001b[0m \u001b[0ma\u001b[0m\u001b[0;34m,\u001b[0m \u001b[0mmin\u001b[0m\u001b[0;34m(\u001b[0m\u001b[0ma\u001b[0m\u001b[0;34m,\u001b[0m \u001b[0mb\u001b[0m\u001b[0;34m)\u001b[0m\u001b[0;34m,\u001b[0m \u001b[0mmax\u001b[0m\u001b[0;34m(\u001b[0m\u001b[0ma\u001b[0m\u001b[0;34m,\u001b[0m \u001b[0mb\u001b[0m\u001b[0;34m)\u001b[0m\u001b[0;34m\u001b[0m\u001b[0m\n\u001b[0m\u001b[1;32m    338\u001b[0m \u001b[0;34m\u001b[0m\u001b[0m\n\u001b[1;32m    339\u001b[0m     \u001b[0;32mif\u001b[0m \u001b[0mweight\u001b[0m \u001b[0;32mis\u001b[0m \u001b[0;32mNone\u001b[0m\u001b[0;34m:\u001b[0m\u001b[0;34m\u001b[0m\u001b[0m\n",
      "\u001b[0;31mValueError\u001b[0m: The truth value of an array with more than one element is ambiguous. Use a.any() or a.all()"
     ]
    }
   ],
   "source": [
    "import numpy as np \n",
    "from scipy.integrate import quad\n",
    "\n",
    "def func(u):\n",
    "    return u**2 *np.exp(-u**2)\n",
    "\n",
    "v = np.linspace(0, 1000, 10**5)\n",
    "n = np.arange(len(v))\n",
    "solution =  np.sqrt(np.pi)/8\n",
    "\n",
    "\n",
    "print(quad(func, 0, v[n])[0])\n",
    "\n",
    "v_bigger_than_median = v[quad(func, 0, v[n])[0] > solution]\n",
    "print(v_bigger_than_median)\n",
    "v_smaller_than_median[i] = v[quad(func, 0, v[n])[0] < solution]\n",
    "print(v_smaller_than_median)\n",
    "v_median= (v_bigger_than_median[0]+ v_smaller_than_median[-1])/2\n",
    "print(f\"Der numerisch ermittelte Median beträgt: {v_median}\")"
   ]
  },
  {
   "cell_type": "markdown",
   "metadata": {
    "collapsed": true
   },
   "source": [
    "## Aufgabe 2d)"
   ]
  },
  {
   "cell_type": "markdown",
   "metadata": {
    "collapsed": true
   },
   "source": [
    "## Aufgabe 2e)"
   ]
  }
 ],
 "metadata": {
  "kernelspec": {
   "display_name": "Python 3",
   "language": "python",
   "name": "python3"
  },
  "language_info": {
   "codemirror_mode": {
    "name": "ipython",
    "version": 3
   },
   "file_extension": ".py",
   "mimetype": "text/x-python",
   "name": "python",
   "nbconvert_exporter": "python",
   "pygments_lexer": "ipython3",
   "version": "3.6.5"
  }
 },
 "nbformat": 4,
 "nbformat_minor": 2
}
