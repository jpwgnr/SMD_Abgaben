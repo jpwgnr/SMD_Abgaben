{
 "cells": [
  {
   "cell_type": "markdown",
   "metadata": {},
   "source": [
    "# Blatt 2 \n",
    "\n",
    "## Nr. 1 \n",
    "\n",
    "Da in allen Aufgabenteilen mit zwei Würfeln gewürfelt wurde. Somit ergibt sich dann als Wahrscheinlichkeit für einen einzigen beliebigen Wurf mit einem Würfel $P(\\text{ein Würfel, beliebiges Ergebnis})= \\frac{1}{6}$ und für einen Wurf mit zwei Würfeln ergibt sich dann $P(\\text{zwei Würfel, beliebiges Ergebnis})= \\frac{1}{36}$. Diese Annahme wurde in den folgenden Teilaufgaben benutzt. "
   ]
  },
  {
   "cell_type": "markdown",
   "metadata": {},
   "source": [
    "#### a) $P(W_\\text{rot} + W_\\text{blau} = 9) =\\\\P(W_\\text{rot}= 3 ,W_\\text{blau} = 6) + P(W_\\text{rot}= 4 ,W_\\text{blau} = 5) + P(W_\\text{rot}= 5 ,W_\\text{blau} = 4) + P(W_\\text{rot}= 6 ,W_\\text{blau} = 3)\\\\= \\frac{4}{36} = \\frac{1}{9}$"
   ]
  },
  {
   "cell_type": "markdown",
   "metadata": {},
   "source": [
    "#### b) $P(W_\\text{rot} + W_\\text{blau} \\geq 9) = \\\\P(W_\\text{rot}= 3 ,W_\\text{blau} = 6) + P(W_\\text{rot}= 4 ,W_\\text{blau} = 6) + P(W_\\text{rot}= 5 ,W_\\text{blau} = 6) + P(W_\\text{rot}= 6 ,W_\\text{blau} = 6) + \\\\P(W_\\text{rot}= 4 ,W_\\text{blau} = 5) + P(W_\\text{rot}= 5 ,W_\\text{blau} = 5) + P(W_\\text{rot}= 6 ,W_\\text{blau} = 5) + \\\\P(W_\\text{rot}= 5 ,W_\\text{blau} = 4) + P(W_\\text{rot}= 6 ,W_\\text{blau} = 4) + \\\\P(W_\\text{rot}= 6 ,W_\\text{blau} = 3) \\\\= \\frac{10}{36} = \\frac{5}{18}$"
   ]
  },
  {
   "cell_type": "markdown",
   "metadata": {},
   "source": [
    "#### c) $P(W_\\text{rot}=4, W_\\text{blau}=5 \\lor W_\\text{rot}=5, W_\\text{blau}=4) =\\\\ P(W_\\text{rot}= 4 ,W_\\text{blau} = 5) + P(W_\\text{rot}= 5 ,W_\\text{blau} = 4)\\\\= \\frac{2}{36} = \\frac{1}{18}$"
   ]
  },
  {
   "cell_type": "markdown",
   "metadata": {},
   "source": [
    "#### d) $P(W_\\text{rot}=4, W_\\text{blau}=5) = \\frac{1}{36}$"
   ]
  },
  {
   "cell_type": "markdown",
   "metadata": {},
   "source": [
    "In den folgenden Aufgaben steht schon fest, dass der rote Würfel eine $4$ zeigt, insofern wird dann quasi nur noch ein einzelner Wurf des blauen Würfels betrachtet."
   ]
  },
  {
   "cell_type": "markdown",
   "metadata": {},
   "source": [
    "#### e) $P(W_\\text{rot} + W_\\text{blau} = 9) \\\\= P(W_\\text{blau} = 5)\\\\= \\frac{1}{6} $"
   ]
  },
  {
   "cell_type": "markdown",
   "metadata": {},
   "source": [
    "#### f) $P(W_\\text{rot} + W_\\text{blau} \\geq 9) \\\\= \n",
    "P(W_\\text{blau} = 5) + P(W_\\text{blau} = 6) \\\\= \\frac{2}{6} = \\frac{1}{3}$"
   ]
  },
  {
   "cell_type": "markdown",
   "metadata": {},
   "source": [
    "#### g) $P(W_\\text{rot}= 4, W_\\text{blau} = 5) \\\\= P(W_\\text{blau} = 5) \\\\= \\frac{1}{6}$"
   ]
  },
  {
   "cell_type": "markdown",
   "metadata": {},
   "source": [
    "# Aufgabe 2\n",
    "\n",
    "## Bestimmung der Normalisierungskonstante\n",
    "\n",
    "Gegeben war \n",
    "\\begin{align}\n",
    "    f(v)=N \\cdot exp\\left(\\frac{m v^2}{2k_\\text{B}T}\\right)4 \\pi v^2 \\,.\n",
    "\\end{align}\n",
    "Mit der Bedingung\n",
    "\\begin{align}\n",
    "    \\int_{0}^{\\infty}f(v)\\,\\text{d}v=1\n",
    "\\end{align}\n",
    "folgt dann:\n",
    "\\begin{align}\n",
    "    \\frac{1}{4\\pi N}&=\\int_0^{\\infty} \\exp\\left(\\frac{m v^2}{2k_\\text{B}T}\\right) v^2 \\, \\text{d} v \\\\\n",
    "    \\frac{1}{4\\pi N}&=-2k_\\text{B}T \\frac{\\text{d}}{\\text{d}m} \\int_{0}^{\\infty}\\exp\\left(\\frac{m v^2}{2k_\\text{B}T}\\right) \\,\\text{d}v\\\\\n",
    "    \\frac{1}{4\\pi N}&=-2k_\\text{B}T \\frac{\\text{d}}{\\text{d}m} \\sqrt{\\frac{2k_\\text{B}T}{m}} \\int_{0}^{\\infty} \\exp(-u^2)\\, \\text{d} u\\\\\n",
    "    \\frac{1}{4\\pi N}&=-2k_\\text{B}T \\frac{\\text{d}}{\\text{d}m} \\sqrt{\\frac{2k_\\text{B}T}{m}} \\frac{\\sqrt{\\pi}}{2}\\\\\n",
    "    \\frac{1}{N}&=8 \\pi k_\\text{B}T \\sqrt{\\frac{\\pi k_\\text{B} t}{2}} \\frac{1}{2m^{3/2}}=\\left(\\frac{2\\pi k_\\text{B} T}{m}\\right)^{3/2} \\\\\n",
    "    N&=\\left(\\frac{m}{2 \\pi k_\\text{B} T}\\right)^{3/2}\n",
    "\\end{align}\n",
    "\n",
    "## Aufgabe 2a)\n",
    "Die wahrscheinlichste Geschwindigkeit $v_m$ entspricht dem Maximum der Wahrscheinlichkeitsdichtefunktion der Geschwindigkeit. Die erste Ableitung muss also null sein:\n",
    "\n",
    "\\begin{align}\n",
    "    \\frac{\\text{d}f(v)}{\\text{d}v}&=4 \\pi N v \\exp\\left(\\frac{m v^2}{2k_\\text{B}T}\\right)\\left(2-\\frac{mv^2}{k_\\text{B}T}\\right) \\\\\n",
    "    \\rightarrow 2&=\\frac{mv^2}{k_\\text{B}T} \\\\\n",
    "    \\rightarrow v^2&= \\frac{2k_\\text{B}T}{m} \\\\\n",
    "    \\rightarrow v_m&=\\sqrt{\\frac{2k_\\text{B}T}{m}} \n",
    "\\end{align}\n",
    "\n",
    "Damit kann man $f(v)$ umschreiben zu:\n",
    "\\begin{equation}\n",
    "    f(v)=\\frac{4}{\\sqrt{\\pi}}\\frac{1}{v_m^3} v^2 \\exp\\left(-\\left(\\frac{v}{v_m}\\right)^2\\right)\n",
    "\\end{equation}\n",
    "\n",
    "## Aufgabe 2b)\n",
    "Gesucht ist der Mittelwert $\\langle v \\rangle$ der Geschwindigkeit.\n",
    "\n",
    "\\begin{align}\n",
    "    \\langle v \\rangle &= \\int_0^{\\infty} v\\, f(v)\\, \\text{d}v \\\\\n",
    "    &=\\frac{4}{\\sqrt{\\pi}\\,v_m^3} \\int_0^{\\infty} v^3 \\exp\\left(-\\left(\\frac{v}{v_m}\\right)^2\\right) \\\\\n",
    "    &= \\frac{4}{\\sqrt{\\pi}\\,v_m^3} \\frac{v_m^4}{2} \\\\\n",
    "    &=\\frac{2 v_m}{\\sqrt{\\pi}}\n",
    "\\end{align}\n",
    "\n",
    "## Aufgabe 2c)\n",
    "Gesucht ist der Median $v_{0,5}$ der Geschwindigkeitsverteilung. Dieser kann berechnet werden durch \n",
    "\\begin{equation}\n",
    "    \\frac{1}{2}=\\int_0^{v_{0,5}}f(v)\\, \\text{d}v=\\frac{4}{\\sqrt{\\pi}v_m^3}\\int_0^{v_{0,5}} v^2 \\exp\\left(-\\left(\\frac{v}{v_m}\\right)^2\\right)\\, \\text{d}v\n",
    "\\end{equation}\n",
    "Umformungen ergeben\n",
    "\\begin{equation}\n",
    "    1=\\frac{8}{\\sqrt{\\pi}} \\int_0^{\\frac{v_{0,5}}{v_m}} u^2 exp(-u^2)\\, \\text{d}u\n",
    "\\end{equation}\n",
    "Das muss jetzt numerisch gelöst werden."
   ]
  },
  {
   "cell_type": "code",
   "execution_count": 1,
   "metadata": {},
   "outputs": [
    {
     "name": "stdout",
     "output_type": "stream",
     "text": [
      "Die numerisch ermittelte Grenze beträgt: 1.08766+/-0.00005\n"
     ]
    }
   ],
   "source": [
    "import numpy as np \n",
    "from scipy.integrate import quad\n",
    "from uncertainties import ufloat\n",
    "\n",
    "#Definition der Funktion, Koeffizient auf andere Seite gebracht\n",
    "def func(u):\n",
    "    return u**2 *np.exp(-u**2)\n",
    "\n",
    "v = np.linspace(0, 10, 10**5) # Geschwindigkeiten v werden erzeugt\n",
    "\n",
    "solution =  np.sqrt(np.pi)/8 #linke Seite \n",
    "g2 = np.empty(1) #leeres Array für for-loop erzeugen (nicht schön gelöst. aber funktioniert.)\n",
    "\n",
    "# mit quad Funktion aus scipy.integrate wird die Funktion numerisch integriert und es wird ein Array g mit \n",
    "# dem Integral über die Werte v befüllt\n",
    "for i in range(len(v)): \n",
    "    g = np.append(g2,quad(func, 0, v[i])[0])\n",
    "    g2 = g \n",
    "g = np.delete(g, 0) #Die erste Komponente des Hilfsarray wird gelöscht\n",
    "\n",
    "v_bigger_than_median = v[g > solution] # alle v die größer als der Median sind\n",
    "v_smaller_than_median = v[g < solution] # alle v die kleiner als der Median sind \n",
    "v_median_array = np.array([v_bigger_than_median[0], v_smaller_than_median[-1]]) #Mittelwert zwischen den beiden Werten wird gebildet\n",
    "v_median = ufloat(v_median_array.mean(), v_median_array.std())\n",
    "print(f\"Die numerisch ermittelte Grenze beträgt: {v_median}\")"
   ]
  },
  {
   "cell_type": "markdown",
   "metadata": {},
   "source": [
    "Dieser Wert muss aufgrund der Grenzen Änderung noch mit $v_m$ multipliziert werden. Es ergibt sich also als Median ein ungefährer Wert von \n",
    "\n",
    "\\begin{align}\n",
    "v_{0.5}= 1.08766 \\cdot v_m .\n",
    "\\end{align}"
   ]
  },
  {
   "cell_type": "markdown",
   "metadata": {
    "collapsed": true
   },
   "source": [
    "## Aufgabe 2d) \n",
    "\n",
    "Gesucht wird die volle Breite auf halber Höhe der Verteilung ($v_\\text{FWHM}$). \n",
    "\n",
    "Dabei gilt \n",
    "\n",
    "\\begin{align}\n",
    "f(v) &= \\frac{f(v_m)}{2} \\\\\n",
    "\\frac{1}{2} &= \\frac{f(v)}{f(v_m)}  \\\\\n",
    "\\frac{1}{2} &= \\frac{v}{v_m}^2 \\exp\\left(- \\left( \\left(\\frac{v}{v_m}\\right)^2 -1 \\right) \\right) \n",
    "\\end{align}\n",
    "\n",
    "Substituiert man $\\frac{v}{v_m}^2$ zu $u$ ergibt sich die Form \n",
    "\n",
    "\\begin{align}\n",
    "u \\cdot exp(-u) &= \\frac{1}{2 e}.\n",
    "\\end{align}\n",
    "\n",
    "Die Lösung dieses Formalismus lässt sich mittels der Lambertschen W-Funktion lösen. \n",
    "Diese ist definiert als \n",
    "\n",
    "\\begin{align} \n",
    " z = W(z)\\cdot exp (W (z))\n",
    "\\end{align} \n",
    "\n",
    "und gibt uns somit eine Lösung zu unserem Problem. Es ergibt sich dann, dass \n",
    "\n",
    "\\begin{align}\n",
    "u = -W_k \\left( -\\frac{1}{2e} \\right) \\text{ mit } k \\in \\mathbb{Z}\n",
    "\\end{align} \n",
    "ist. Somit ist dann natürlich \n",
    "\\begin{align}\n",
    "v = \\sqrt{-W_k \\left( -\\frac{1}{2e} \\right) }\\, v_m .\n",
    "\\end{align}\n",
    "\n",
    "Dies sind also die Stellen an denen die Funktion auf der Hälfte ihrer Werte landet. \n",
    "Es ergeben sich zwei analytische Lösungen für u. \n",
    "\n",
    "\\begin{align}\n",
    "u_1 &= 0.231961 \\\\\n",
    "u_2 &= 2.67835\n",
    "\\end{align}\n",
    "\n",
    "Mit der Differenz dieser beiden Werte kommen wir dann auf unsere volle Breite auf halber Höhe. \n",
    "\n",
    "\\begin{align}\n",
    "v = \\left(\\sqrt{ u_2} - \\sqrt{u_1}\\right) \\cdot v_m = 1.155 \\cdot v_m \n",
    "\\end{align}\n"
   ]
  },
  {
   "cell_type": "markdown",
   "metadata": {
    "collapsed": true
   },
   "source": [
    "## Aufgabe 2e)  \n",
    "\n",
    "Gesucht ist die Standardabweichung der Geschwindigkeit $\\sigma_\\text{v}$. \n",
    "Dafür benötigen wir den Mittelwert des Geschwindigkeit Quadrats $\\langle v^{2} \\rangle$ der Geschwindigkeit.\n",
    "\n",
    "\\begin{align}\n",
    "    \\langle v \\rangle &= \\int_0^{\\infty} v\\, f(v)\\, \\text{d}v \\\\\n",
    "    &=\\frac{4}{\\sqrt{\\pi}\\,v_m^3} \\int_0^{\\infty} v^4 \\exp\\left(-\\left(\\frac{v}{v_m}\\right)^2\\right) \\\\\n",
    "    &= \\frac{4}{\\sqrt{\\pi}\\,v_m^3} \\frac{3 \\sqrt{\\pi} v_m^5}{8} \\\\\n",
    "    &=\\frac{3 v_m^{2}}{2}\n",
    "\\end{align}\n",
    "\n",
    "Die Standardabweichung ist als \n",
    "\n",
    "\\begin{align}\n",
    "        \\sigma_\\text{v} &= \\sqrt{ \\langle v^{2} \\rangle - \\langle v \\rangle^{2} }\n",
    "\\end{align}\n",
    "\n",
    "definiert. \n",
    "\n",
    "Somit ergibt sich dann \n",
    "\n",
    "\\begin{align}\n",
    "        \\sigma_\\text{v} &= \\sqrt{ \\langle v^{2} \\rangle - \\langle v \\rangle^{2} } \\\\\n",
    "        &= \\sqrt{ \\frac{3 v_m^{2}}{2} -  \\frac{4 v_m^{2}}{\\pi} } \\\\\n",
    "        &= \\left(\\sqrt{ \\frac{3}{2} - \\frac{4}{\\pi} }\\right) \\, v_m\n",
    "\\end{align} \n",
    "    "
   ]
  }
 ],
 "metadata": {
  "kernelspec": {
   "display_name": "Python 3",
   "language": "python",
   "name": "python3"
  },
  "language_info": {
   "codemirror_mode": {
    "name": "ipython",
    "version": 3
   },
   "file_extension": ".py",
   "mimetype": "text/x-python",
   "name": "python",
   "nbconvert_exporter": "python",
   "pygments_lexer": "ipython3",
   "version": "3.6.5"
  }
 },
 "nbformat": 4,
 "nbformat_minor": 2
}
