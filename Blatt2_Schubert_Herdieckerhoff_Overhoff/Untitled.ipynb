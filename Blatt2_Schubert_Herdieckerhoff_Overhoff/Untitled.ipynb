{
 "cells": [
  {
   "cell_type": "markdown",
   "metadata": {},
   "source": [
    "# Aufgabe 2\n",
    "\n",
    "## Bestimmung der Normalisierungskonstante\n",
    "\n",
    "Gegeben war \n",
    "\\begin{equation}\n",
    "    f(v)=N exp\\left(\\frac{m v^2}{2kT}\\right)4 \\pi v^2 \\,.\n",
    "\\end{equation}\n",
    "Mit der Bedingung\n",
    "\\begin{equation}\n",
    "    \\int_{0}^{\\infty}f(v)\\text{d}v=1\n",
    "\\end{equation}\n",
    "folgt dann:\n",
    "\\begin{equation}\n",
    "    \\frac{1}{4\\pi N}=\\int_0^{\\infty} \\exp\\left(\\frac{m v^2}{2kT}\\right) v^2 \\text{d} v\n",
    "\\end{equation}\n",
    "\\begin{equation}\n",
    "    \\frac{1}{4\\pi N}=-2kT \\frac{\\text{d}}{\\text{d}m} \\int_0^{\\infty}\\exp\\left(\\frac{m v^2}{2kT}\\right) \\text{d}v\n",
    "\\end{equation}\n",
    "\\begin{equation}\n",
    "    \\frac{1}{4\\pi N}=-2kT \\frac{\\text{d}}{\\text{d}m} \\sqrt{\\frac{2kT}{m}} int_0^{\\infty} \\exp(-u^2) \\text{d} u\n",
    "\\end{equation}\n",
    "\\begin{equation}\n",
    "    \\frac{1}{4\\pi N}=-2kT \\frac{\\text{d}}{\\text{d}m} \\sqrt{\\frac{2kT}{m}} \\frac{\\sqrt{\\pi}}{2}\n",
    "\\end{equation}\n",
    "\\begin{align}\n",
    "    \\frac{1}{N}=8 \\pi kT \\sqrt{\\frac{\\pi k t}{2}} \\frac{1}{2m^{3/2}}=\\left(\\frac{2\\pi k T}{m}\\right)^{3/2}\n",
    "\\end{align}\n",
    "\\begin{align}\n",
    "    N=\\left(\\frac{m}{2 \\pi k T}\\right)^{3/2}\n",
    "\\end{align}\n",
    "\n",
    "## Aufgabe 2a)\n",
    "Die wahrscheinlichste Geschwindigkeit $v_m$ entspricht dem Maximum der Wahrscheinlichkeitsdichtefunktion der Geschwindigkeit. Die erste Ableitung muss also null sein:\n",
    "\n",
    "\\begin{align}\n",
    "    \\frac{\\text{d}f(v)}{\\text{d}v}&=4 \\pi N v \\exp\\left(\\frac{m v^2}{2kT}\\right)\\left(2-\\frac{mv^2}{kT}\\right) \\\\\n",
    "    \\rightarrow 2&=\\frac{mv^2}{kT} \\\\\n",
    "    \\rightarrow v^2&= \\frac{2kT}{m} \\\\\n",
    "    \\rightarrow v_m&=\\sqrt{\\frac{2kT}{m}} \n",
    "\\end{align}\n",
    "\n",
    "Damit kann man $f(v)$ umschreiben zu:\n",
    "\\begin{equation}\n",
    "    f(v)=\\frac{4}{\\sqrt{\\pi}}\\frac{1}{v_m^3} v^2 \\exp\\left(-\\left(\\frac{v}{v_m}\\right)^2\\right)\n",
    "\\end{equation}\n",
    "\n",
    "## Aufgabe 2b)\n",
    "Gesucht ist der Mittelwert $\\langle v \\rangle$ der Geschwindigkeit.\n",
    "\n",
    "\\begin{align}\n",
    "    \\langle v \\rangle = \\int_0^{\\infty} v f(v) \\text{d}v \\\\\n",
    "    =\\frac{4}{\\sqrt{\\pi}v_m^3} \\int_0^{\\infty} v^3 \\exp\\left(-\\left(\\frac{v}{v_m}\\right)^2\\right) \\\\\n",
    "    = \\frac{4}{\\sqrt{\\pi}v_m^3} \\frac{v_m^4}{2} \\\\\n",
    "    =\\frac{2 v_m}{\\sqrt{\\pi}}\n",
    "\\end{align}\n",
    "\n",
    "## Aufgabe 2c)\n",
    "Gesucht ist der Median $v_{0,5}$ der Geschwindigkeitsverteilung. Dieser kann berechnet werden durch \n",
    "\\begin{equation}\n",
    "    \\frac{1}{2}=\\int_0^{v_{0,5}}f(v) \\text{d}v=\\frac{4}{\\sqrt{\\pi}v_m^3}\\int_0^{v_{0,5}} v^2 \\exp\\left(-\\left(\\frac{v}{v_m}\\right)^2\\right) \\text{d}v\n",
    "\\end{equation}\n",
    "Umformungen ergeben\n",
    "\\begin{equation}\n",
    "    1=\\frac{8}{\\sqrt{\\pi}} \\int_0^{v_{0,5}} u^2 exp(-u^2) \\text{d}u\n",
    "\\end{equation}\n",
    "Das muss jetzt numerisch gelöst werden."
   ]
  },
  {
   "cell_type": "code",
   "execution_count": null,
   "metadata": {
    "collapsed": true
   },
   "outputs": [],
   "source": []
  },
  {
   "cell_type": "code",
   "execution_count": null,
   "metadata": {
    "collapsed": true
   },
   "outputs": [],
   "source": []
  },
  {
   "cell_type": "code",
   "execution_count": null,
   "metadata": {
    "collapsed": true
   },
   "outputs": [],
   "source": []
  }
 ],
 "metadata": {
  "kernelspec": {
   "display_name": "Python 3",
   "language": "python",
   "name": "python3"
  },
  "language_info": {
   "codemirror_mode": {
    "name": "ipython",
    "version": 3
   },
   "file_extension": ".py",
   "mimetype": "text/x-python",
   "name": "python",
   "nbconvert_exporter": "python",
   "pygments_lexer": "ipython3",
   "version": "3.6.1"
  }
 },
 "nbformat": 4,
 "nbformat_minor": 2
}
