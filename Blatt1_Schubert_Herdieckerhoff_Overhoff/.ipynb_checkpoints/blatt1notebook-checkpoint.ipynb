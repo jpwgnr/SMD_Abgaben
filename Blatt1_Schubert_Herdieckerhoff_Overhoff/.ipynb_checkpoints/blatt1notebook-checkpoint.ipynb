{
 "cells": [
  {
   "cell_type": "markdown",
   "metadata": {},
   "source": [
    "# Blatt 1 \n",
    "\n",
    "## Aufgabe 1a) und b) \n",
    "\n",
    "Es werden zwei Funktionen empirisch untersucht. Dabei soll festgestellt werden, für welche Bereiche von $x$ das numerische Ergebnis vom algebraischen um nicht mehr als 1% abweicht und in welchen Bereichen das Ergebnis gleich null ist. Anschließend gibt es eine graphische Auswertung. "
   ]
  },
  {
   "cell_type": "code",
   "execution_count": 6,
   "metadata": {
    "collapsed": true
   },
   "outputs": [],
   "source": [
    "import numpy as np \n",
    "import matplotlib.pyplot as plt "
   ]
  },
  {
   "cell_type": "code",
   "execution_count": 7,
   "metadata": {
    "collapsed": true
   },
   "outputs": [],
   "source": [
    "def f(x):\n",
    "    return (x**3 + 1/3) - (x**3 - 1/3)"
   ]
  },
  {
   "cell_type": "code",
   "execution_count": 8,
   "metadata": {
    "collapsed": true
   },
   "outputs": [],
   "source": [
    "def g(x):\n",
    "    return ((3+(x**3)/3) - (3 - (x**3)/3))/x**3"
   ]
  },
  {
   "cell_type": "code",
   "execution_count": 9,
   "metadata": {
    "collapsed": true
   },
   "outputs": [],
   "source": [
    "def interval(a):\n",
    "    if len(a) != 0:\n",
    "        new = np.arange(0, len(a), 1)\n",
    "        index1 = (a[new-1]+1 != a[new])\n",
    "        index2= np.append(index1[1:], index1[0])\n",
    "        a1= a[index1]\n",
    "        a2= a[index2]\n",
    "        for i in range(len(a1)):\n",
    "            print(\"(\", a1[i],\",\", a2[i], \")\",\"; \", sep=\"\", end=\"\")\n",
    "        print(\"\")\n",
    "    else: print(\"Leeres Array.\")"
   ]
  },
  {
   "cell_type": "code",
   "execution_count": 10,
   "metadata": {
    "collapsed": true
   },
   "outputs": [],
   "source": [
    "def makeplot(func, fig, c):\n",
    "    x= np.linspace(1, 10**c, 10**c)\n",
    "    y= func(x)\n",
    "    y0= 2/3* np.ones(len(x)) #\"exakter Wert\" 2/3\n",
    "    x1= x[(y==2/3)] #numerische Werte mit keiner Abweichung\n",
    "    x2= x[(y>((2/3)+0.01)) | (y<(2/3 - 0.01))] #numerische Abweichung unter einem Prozent\n",
    "    x3= x[(y<((2/3)+0.01)) & (y>(2/3 - 0.01)) & (y!=2/3)] #numerische Abweichung über einem Prozent\n",
    "    plt.figure(fig, figsize=(15,12))\n",
    "    plt.xscale(\"log\")\n",
    "    plt.plot(x, y0, \"b\", label=\"Tatsächlicher Wert\")\n",
    "    plt.plot(x1, func(x1), \"k.\", label=\"Numerische Abweichung von 0\")\n",
    "    plt.plot(x2, func(x2), \"g.\", label=\"Abweichung größer als 1%\", linestyle=\"None\")\n",
    "    plt.plot(x3, func(x3), \"r.\", label=\"Abweichung weniger als 1%\", linestyle=\"None\")\n",
    "    plt.legend()\n",
    "    print(\"Tatsächlicher Wert für Formel\", fig,\": \", end=\"\")\n",
    "    interval(x1)\n",
    "    print(\"\\n\\n\")\n",
    "    print(\"Abweichung größer als 1% für Formel\", fig,\": \", end=\"\")\n",
    "    interval(x2)\n",
    "    print(\"\\n\\n\")\n",
    "    print(\"Abweichung weniger als 1% für Formel\", fig, \": \", end=\"\")\n",
    "    interval(x3)\n",
    "    print(\"\\n\\n\")"
   ]
  },
  {
   "cell_type": "code",
   "execution_count": 11,
   "metadata": {},
   "outputs": [
    {
     "name": "stdout",
     "output_type": "stream",
     "text": [
      "Tatsächlicher Wert für Formel 1 : Leeres Array.\n",
      "\n",
      "\n",
      "\n",
      "Abweichung größer als 1% für Formel 1 : (41286.0,1000000.0); \n",
      "\n",
      "\n",
      "\n",
      "Abweichung weniger als 1% für Formel 1 : (1.0,41285.0); \n",
      "\n",
      "\n",
      "\n",
      "Tatsächlicher Wert für Formel 2 : (3.0,10.0); (12.0,12.0); (14.0,16.0); (18.0,18.0); (20.0,21.0); (23.0,25.0); (27.0,28.0); (30.0,30.0); (32.0,33.0); (35.0,37.0); (39.0,40.0); (42.0,43.0); (45.0,48.0); (50.0,51.0); (53.0,54.0); (56.0,57.0); (60.0,61.0); (63.0,64.0); (66.0,67.0); (69.0,70.0); (72.0,75.0); (77.0,78.0); (80.0,81.0); (83.0,84.0); (86.0,87.0); (89.0,90.0); (92.0,94.0); (96.0,97.0); (99.0,100.0); (102.0,103.0); (105.0,106.0); (108.0,109.0); (111.0,112.0); (114.0,115.0); (117.0,117.0); (119.0,120.0); (122.0,123.0); (125.0,126.0); (128.0,129.0); (131.0,132.0); (134.0,135.0); (137.0,138.0); (140.0,141.0); (143.0,144.0); (146.0,148.0); (150.0,151.0); (153.0,154.0); (156.0,157.0); (159.0,160.0); (162.0,163.0); (165.0,166.0); (168.0,169.0); (171.0,172.0); (174.0,175.0); (177.0,178.0); (180.0,181.0); (183.0,186.0); (188.0,189.0); (191.0,192.0); (194.0,195.0); (197.0,198.0); (200.0,201.0); (203.0,204.0); (206.0,207.0); (209.0,210.0); (212.0,213.0); (215.0,216.0); (218.0,219.0); (221.0,222.0); (224.0,225.0); (227.0,228.0); (230.0,231.0); (234.0,235.0); (237.0,238.0); (240.0,241.0); (243.0,244.0); (246.0,247.0); (249.0,250.0); (252.0,253.0); (255.0,256.0); (258.0,259.0); (261.0,262.0); (264.0,265.0); (267.0,268.0); (270.0,271.0); (273.0,274.0); (276.0,277.0); (279.0,280.0); (282.0,283.0); (285.0,286.0); (288.0,289.0); (291.0,292.0); (294.0,294.0); (296.0,297.0); (299.0,300.0); (302.0,303.0); (305.0,306.0); (308.0,309.0); (311.0,312.0); (314.0,315.0); (317.0,318.0); (320.0,321.0); (323.0,324.0); (326.0,327.0); (329.0,330.0); (332.0,333.0); (335.0,336.0); (338.0,339.0); (341.0,342.0); (344.0,345.0); (347.0,348.0); (350.0,351.0); (353.0,354.0); (356.0,357.0); (359.0,360.0); (362.0,363.0); (365.0,366.0); (368.0,370.0); (372.0,373.0); (375.0,376.0); (378.0,379.0); (381.0,382.0); (384.0,385.0); (387.0,388.0); (390.0,391.0); (393.0,394.0); (396.0,397.0); (399.0,400.0); (402.0,403.0); (405.0,406.0); (408.0,409.0); (411.0,412.0); (414.0,415.0); (417.0,418.0); (420.0,421.0); (423.0,424.0); (426.0,427.0); (429.0,430.0); (432.0,433.0); (435.0,436.0); (438.0,439.0); (441.0,442.0); (444.0,445.0); (447.0,448.0); (450.0,451.0); (453.0,454.0); (456.0,457.0); (459.0,460.0); (462.0,463.0); (465.0,465.0); (467.0,468.0); (470.0,471.0); (473.0,474.0); (476.0,477.0); (479.0,480.0); (482.0,483.0); (485.0,486.0); (488.0,489.0); (491.0,492.0); (494.0,495.0); (497.0,498.0); (500.0,501.0); (503.0,504.0); (506.0,507.0); (509.0,510.0); (512.0,513.0); (515.0,516.0); (518.0,519.0); (521.0,522.0); (524.0,525.0); (527.0,528.0); (530.0,531.0); (533.0,534.0); (536.0,537.0); (539.0,540.0); (542.0,543.0); (545.0,546.0); (548.0,549.0); (551.0,552.0); (554.0,555.0); (557.0,558.0); (560.0,561.0); (563.0,564.0); (566.0,567.0); (569.0,570.0); (572.0,573.0); (575.0,576.0); (578.0,579.0); (581.0,582.0); (584.0,585.0); (588.0,589.0); (591.0,592.0); (594.0,595.0); (597.0,598.0); (600.0,601.0); (603.0,604.0); (606.0,607.0); (609.0,610.0); (612.0,613.0); (615.0,616.0); (618.0,619.0); (621.0,622.0); (624.0,625.0); (627.0,628.0); (630.0,631.0); (633.0,634.0); (636.0,637.0); (639.0,640.0); (642.0,643.0); (645.0,646.0); (648.0,649.0); (651.0,652.0); (654.0,655.0); (657.0,658.0); (660.0,661.0); (663.0,664.0); (666.0,667.0); (669.0,670.0); (672.0,673.0); (675.0,676.0); (678.0,679.0); (681.0,682.0); (684.0,685.0); (687.0,688.0); (690.0,691.0); (693.0,694.0); (696.0,697.0); (699.0,700.0); (702.0,703.0); (705.0,706.0); (708.0,709.0); (711.0,712.0); (714.0,715.0); (717.0,718.0); (720.0,721.0); (723.0,724.0); (726.0,727.0); (729.0,730.0); (732.0,733.0); (735.0,736.0); (738.0,738.0); (740.0,741.0); (743.0,744.0); (746.0,747.0); (749.0,750.0); (752.0,753.0); (755.0,756.0); (758.0,759.0); (761.0,762.0); (764.0,765.0); (767.0,768.0); (770.0,771.0); (773.0,774.0); (776.0,777.0); (779.0,780.0); (782.0,783.0); (785.0,786.0); (788.0,789.0); (791.0,792.0); (794.0,795.0); (797.0,798.0); (800.0,801.0); (803.0,804.0); (806.0,807.0); (809.0,810.0); (812.0,813.0); (815.0,816.0); (818.0,819.0); (821.0,822.0); (824.0,825.0); (827.0,828.0); (830.0,831.0); (833.0,834.0); (836.0,837.0); (839.0,840.0); (842.0,843.0); (845.0,846.0); (848.0,849.0); (851.0,852.0); (854.0,855.0); (857.0,858.0); (860.0,861.0); (863.0,864.0); (866.0,867.0); (869.0,870.0); (872.0,873.0); (875.0,876.0); (878.0,879.0); (881.0,882.0); (884.0,885.0); (887.0,888.0); (890.0,891.0); (893.0,894.0); (896.0,897.0); (899.0,900.0); (902.0,903.0); (905.0,906.0); (908.0,909.0); (911.0,912.0); (914.0,915.0); (917.0,918.0); (920.0,921.0); (923.0,924.0); (926.0,927.0); (929.0,931.0); (933.0,934.0); (936.0,937.0); (939.0,940.0); (942.0,943.0); (945.0,946.0); (948.0,949.0); (951.0,952.0); (954.0,955.0); (957.0,958.0); (960.0,961.0); (963.0,964.0); (966.0,967.0); (969.0,970.0); (972.0,973.0); (975.0,976.0); (978.0,979.0); (981.0,982.0); (984.0,985.0); (987.0,988.0); (990.0,991.0); (993.0,994.0); (996.0,997.0); (999.0,1000.0); \n",
      "\n",
      "\n",
      "\n",
      "Abweichung größer als 1% für Formel 2 : Leeres Array.\n",
      "\n",
      "\n",
      "\n",
      "Abweichung weniger als 1% für Formel 2 : (1.0,2.0); (11.0,11.0); (13.0,13.0); (17.0,17.0); (19.0,19.0); (22.0,22.0); (26.0,26.0); (29.0,29.0); (31.0,31.0); (34.0,34.0); (38.0,38.0); (41.0,41.0); (44.0,44.0); (49.0,49.0); (52.0,52.0); (55.0,55.0); (58.0,59.0); (62.0,62.0); (65.0,65.0); (68.0,68.0); (71.0,71.0); (76.0,76.0); (79.0,79.0); (82.0,82.0); (85.0,85.0); (88.0,88.0); (91.0,91.0); (95.0,95.0); (98.0,98.0); (101.0,101.0); (104.0,104.0); (107.0,107.0); (110.0,110.0); (113.0,113.0); (116.0,116.0); (118.0,118.0); (121.0,121.0); (124.0,124.0); (127.0,127.0); (130.0,130.0); (133.0,133.0); (136.0,136.0); (139.0,139.0); (142.0,142.0); (145.0,145.0); (149.0,149.0); (152.0,152.0); (155.0,155.0); (158.0,158.0); (161.0,161.0); (164.0,164.0); (167.0,167.0); (170.0,170.0); (173.0,173.0); (176.0,176.0); (179.0,179.0); (182.0,182.0); (187.0,187.0); (190.0,190.0); (193.0,193.0); (196.0,196.0); (199.0,199.0); (202.0,202.0); (205.0,205.0); (208.0,208.0); (211.0,211.0); (214.0,214.0); (217.0,217.0); (220.0,220.0); (223.0,223.0); (226.0,226.0); (229.0,229.0); (232.0,233.0); (236.0,236.0); (239.0,239.0); (242.0,242.0); (245.0,245.0); (248.0,248.0); (251.0,251.0); (254.0,254.0); (257.0,257.0); (260.0,260.0); (263.0,263.0); (266.0,266.0); (269.0,269.0); (272.0,272.0); (275.0,275.0); (278.0,278.0); (281.0,281.0); (284.0,284.0); (287.0,287.0); (290.0,290.0); (293.0,293.0); (295.0,295.0); (298.0,298.0); (301.0,301.0); (304.0,304.0); (307.0,307.0); (310.0,310.0); (313.0,313.0); (316.0,316.0); (319.0,319.0); (322.0,322.0); (325.0,325.0); (328.0,328.0); (331.0,331.0); (334.0,334.0); (337.0,337.0); (340.0,340.0); (343.0,343.0); (346.0,346.0); (349.0,349.0); (352.0,352.0); (355.0,355.0); (358.0,358.0); (361.0,361.0); (364.0,364.0); (367.0,367.0); (371.0,371.0); (374.0,374.0); (377.0,377.0); (380.0,380.0); (383.0,383.0); (386.0,386.0); (389.0,389.0); (392.0,392.0); (395.0,395.0); (398.0,398.0); (401.0,401.0); (404.0,404.0); (407.0,407.0); (410.0,410.0); (413.0,413.0); (416.0,416.0); (419.0,419.0); (422.0,422.0); (425.0,425.0); (428.0,428.0); (431.0,431.0); (434.0,434.0); (437.0,437.0); (440.0,440.0); (443.0,443.0); (446.0,446.0); (449.0,449.0); (452.0,452.0); (455.0,455.0); (458.0,458.0); (461.0,461.0); (464.0,464.0); (466.0,466.0); (469.0,469.0); (472.0,472.0); (475.0,475.0); (478.0,478.0); (481.0,481.0); (484.0,484.0); (487.0,487.0); (490.0,490.0); (493.0,493.0); (496.0,496.0); (499.0,499.0); (502.0,502.0); (505.0,505.0); (508.0,508.0); (511.0,511.0); (514.0,514.0); (517.0,517.0); (520.0,520.0); (523.0,523.0); (526.0,526.0); (529.0,529.0); (532.0,532.0); (535.0,535.0); (538.0,538.0); (541.0,541.0); (544.0,544.0); (547.0,547.0); (550.0,550.0); (553.0,553.0); (556.0,556.0); (559.0,559.0); (562.0,562.0); (565.0,565.0); (568.0,568.0); (571.0,571.0); (574.0,574.0); (577.0,577.0); (580.0,580.0); (583.0,583.0); (586.0,587.0); (590.0,590.0); (593.0,593.0); (596.0,596.0); (599.0,599.0); (602.0,602.0); (605.0,605.0); (608.0,608.0); (611.0,611.0); (614.0,614.0); (617.0,617.0); (620.0,620.0); (623.0,623.0); (626.0,626.0); (629.0,629.0); (632.0,632.0); (635.0,635.0); (638.0,638.0); (641.0,641.0); (644.0,644.0); (647.0,647.0); (650.0,650.0); (653.0,653.0); (656.0,656.0); (659.0,659.0); (662.0,662.0); (665.0,665.0); (668.0,668.0); (671.0,671.0); (674.0,674.0); (677.0,677.0); (680.0,680.0); (683.0,683.0); (686.0,686.0); (689.0,689.0); (692.0,692.0); (695.0,695.0); (698.0,698.0); (701.0,701.0); (704.0,704.0); (707.0,707.0); (710.0,710.0); (713.0,713.0); (716.0,716.0); (719.0,719.0); (722.0,722.0); (725.0,725.0); (728.0,728.0); (731.0,731.0); (734.0,734.0); (737.0,737.0); (739.0,739.0); (742.0,742.0); (745.0,745.0); (748.0,748.0); (751.0,751.0); (754.0,754.0); (757.0,757.0); (760.0,760.0); (763.0,763.0); (766.0,766.0); (769.0,769.0); (772.0,772.0); (775.0,775.0); (778.0,778.0); (781.0,781.0); (784.0,784.0); (787.0,787.0); (790.0,790.0); (793.0,793.0); (796.0,796.0); (799.0,799.0); (802.0,802.0); (805.0,805.0); (808.0,808.0); (811.0,811.0); (814.0,814.0); (817.0,817.0); (820.0,820.0); (823.0,823.0); (826.0,826.0); (829.0,829.0); (832.0,832.0); (835.0,835.0); (838.0,838.0); (841.0,841.0); (844.0,844.0); (847.0,847.0); (850.0,850.0); (853.0,853.0); (856.0,856.0); (859.0,859.0); (862.0,862.0); (865.0,865.0); (868.0,868.0); (871.0,871.0); (874.0,874.0); (877.0,877.0); (880.0,880.0); (883.0,883.0); (886.0,886.0); (889.0,889.0); (892.0,892.0); (895.0,895.0); (898.0,898.0); (901.0,901.0); (904.0,904.0); (907.0,907.0); (910.0,910.0); (913.0,913.0); (916.0,916.0); (919.0,919.0); (922.0,922.0); (925.0,925.0); (928.0,928.0); (932.0,932.0); (935.0,935.0); (938.0,938.0); (941.0,941.0); (944.0,944.0); (947.0,947.0); (950.0,950.0); (953.0,953.0); (956.0,956.0); (959.0,959.0); (962.0,962.0); (965.0,965.0); (968.0,968.0); (971.0,971.0); (974.0,974.0); (977.0,977.0); (980.0,980.0); (983.0,983.0); (986.0,986.0); (989.0,989.0); (992.0,992.0); (995.0,995.0); (998.0,998.0); \n",
      "\n",
      "\n",
      "\n"
     ]
    }
   ],
   "source": [
    "makeplot(f, 1, 6)\n",
    "makeplot(g, 2, 3)"
   ]
  },
  {
   "cell_type": "markdown",
   "metadata": {},
   "source": [
    "## Aufgabe 2a)\n",
    "\n",
    "Es ist ein Term des differektiellen Wirkungsquerschnitts für die Reaktion $\\text{e}^{-}\\text{e}^{+} \\to \\gamma\\gamma$ gegeben und es soll bestimmt werden, ob dieser numerisch stabil ist. Außerdem soll der Bereich von $\\theta$ bestimmt werden, in dem die Gleichung für $\\text{E}_\\text{e} = 50\\, \\text{GeV}$ numerisch instabil ist. "
   ]
  },
  {
   "cell_type": "markdown",
   "metadata": {},
   "source": [
    "Der Ausdruck ist numerisch nicht stabil, da es, wenn $\\theta$ werte nathe $\\pi$ annimmt, im Nenner zu einer Subtraktion \n",
    "zweier fast gleich großer Zahlen kommt, was immer mit großen Rundungsfehlern behaftet ist."
   ]
  },
  {
   "cell_type": "markdown",
   "metadata": {},
   "source": [
    "## b) \n",
    "Das Stabilitätsproblem soll durch eine geeignete analytische Umformung gelöst werden. "
   ]
  },
  {
   "cell_type": "markdown",
   "metadata": {
    "collapsed": true
   },
   "source": [
    "Mithilfe der angegebenen Umformungen kann man den Tern umschreiben zu:\n",
    "$\n",
    "\\frac{d\\sigma}{d\\Omega}=\\frac{\\alpha^2}{s}\\left(\\frac{2+\\sin^2(\\theta)}{\\sin^2(\\theta)+\\frac{1}{\\gamma}\\cos^2(\\theta)}\\right)$"
   ]
  },
  {
   "cell_type": "markdown",
   "metadata": {},
   "source": [
    "## c) \n",
    "\n",
    "Es soll gezeigt werden, dass die Stabilitätsprobleme behoben wurden, indem die Gleichungen in den kritischen Intervallen graphisch dargestellt werden.  "
   ]
  },
  {
   "cell_type": "code",
   "execution_count": 16,
   "metadata": {
    "collapsed": true
   },
   "outputs": [],
   "source": [
    "import scipy.constants as const"
   ]
  },
  {
   "cell_type": "code",
   "execution_count": 26,
   "metadata": {},
   "outputs": [
    {
     "data": {
      "image/png": "[encoded data removed]",
      "text/plain": [
       "<matplotlib.figure.Figure at 0x11aed0470>"
      ]
     },
     "metadata": {},
     "output_type": "display_data"
    },
    {
     "data": {
      "image/png": "[encoded data removed]",
      "text/plain": [
       "<matplotlib.figure.Figure at 0x1136d1b38>"
      ]
     },
     "metadata": {},
     "output_type": "display_data"
    },
    {
     "data": {
      "text/plain": [
       "<function matplotlib.pyplot.clf>"
      ]
     },
     "execution_count": 26,
     "metadata": {},
     "output_type": "execute_result"
    }
   ],
   "source": [
    "Ee = 50*1e9 \n",
    "me = 511*1e3 \n",
    "s = (2*Ee)**2\n",
    "gamma = Ee/me\n",
    "beta = np.sqrt(1-gamma**(-2))\n",
    "alpha= const.alpha \n",
    "\n",
    "def wirkung(theta):\n",
    "    return alpha**2 /s * ((2 + np.sin(theta)**2)/(1-beta**2 *np.cos(theta)**2))\n",
    "\n",
    "def verbessert(theta):\n",
    "    return alpha**2 /s * ((2 + np.sin(theta)**2)/(np.sin(theta)**2+1/(gamma**2)*np.cos(theta)**2))\n",
    "\n",
    "x=np.linspace(np.pi-0.00000003, np.pi+0.00000003)\n",
    "\n",
    "plt.plot(x, wirkung(x), 'r-', label=\"Nicht stabil\")\n",
    "plt.xlabel(r'$\\theta')\n",
    "plt.ylabel(r'$d\\sigma/d\\Omega$')\n",
    "plt.legend()\n",
    "plt.show()\n",
    "plt.clf\n",
    "\n",
    "plt.plot(x, verbessert(x), 'r-', label=\"stabil\")\n",
    "plt.xlabel(r'$\\theta')\n",
    "plt.ylabel(r'$d\\sigma/d\\Omega$')\n",
    "plt.legend()\n",
    "plt.show()\n",
    "plt.clf"
   ]
  },
  {
   "cell_type": "code",
   "execution_count": null,
   "metadata": {
    "collapsed": true
   },
   "outputs": [],
   "source": []
  },
  {
   "cell_type": "markdown",
   "metadata": {},
   "source": [
    "## d) \n",
    "\n",
    "Die Konditionszahl soll berechnet werden und es soll erklärt werden, wie diese von $\\theta$ abhängt. "
   ]
  },
  {
   "cell_type": "code",
   "execution_count": null,
   "metadata": {
    "collapsed": true
   },
   "outputs": [],
   "source": []
  },
  {
   "cell_type": "markdown",
   "metadata": {},
   "source": [
    "## e) \n",
    "\n",
    "Der Verlauf der Konditionszahl soll als Funktion von $\\theta$ im Intervall $(0 \\leq \\theta \\geq )$ graphisch dargestellt werden. Außerdem soll erklärt werden, in welchem Bereich das Problem gut und in welchem schlecht konditioniert ist. "
   ]
  }
 ],
 "metadata": {
  "kernelspec": {
   "display_name": "Python 3",
   "language": "python",
   "name": "python3"
  },
  "language_info": {
   "codemirror_mode": {
    "name": "ipython",
    "version": 3
   },
   "file_extension": ".py",
   "mimetype": "text/x-python",
   "name": "python",
   "nbconvert_exporter": "python",
   "pygments_lexer": "ipython3",
   "version": "3.6.1"
  }
 },
 "nbformat": 4,
 "nbformat_minor": 2
}
