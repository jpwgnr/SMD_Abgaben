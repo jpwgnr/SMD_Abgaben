{
 "cells": [
  {
   "cell_type": "markdown",
   "metadata": {},
   "source": [
    "# Aufgabe 10\n",
    "\n",
    "## Teilaufgabe a)\n",
    "\n",
    "Der Metropolis-Hastings-Algorithmus für Zufallszahlen, die der Verteilung der Funktion $f(x)$ folgen sollen, hat die Übergangswahrscheinlichkeit \n",
    "\n",
    "$$ M_{i\\rightarrow j} = \\text{min}\\left(1, \\frac{f\\left(x_j\\right)}{f\\left(x_i\\right)} \\frac{g\\left(x_j \\vert x_i\\right)}{g\\left(x_i \\vert x_j \\right)}\\right)\\,.$$\n",
    "\n",
    "Dabei ist $x_i$ eine generierte Zufallszahl und $x_j$ eine vorgeschlagene Zufallszahl, die bei Annahme an die zu generierende Folge angehängt wird. Der vorgeschlagene Wert wird akzeptiert, wenn $M_{i\\rightarrow j}$ größer oder gleich einer zufällig auf dem Intervall von null bis eins gewählten Zahl ist. Die Funktion $g$ ist eine Schrittvorschlags-PDF. Der Ausdruck $g\\left(x_i \\vert x_j \\right)$ beschreibt die Übergangswahrscheinlichkeit aus dem Zustand $x_i$ in den Zustand $x_j$.\n",
    "\n",
    "Für eine Gaußverteilung gilt \n",
    "\n",
    "$$g\\left(x_i|x_j\\right) = N \\cdot \\exp(-(x_i-x_j)^2)\\,.$$\n",
    "\n",
    "$\\mu$ ist der Erwartungswert der Gaußverteilung. Da die Gaußverteilung symmetrisch ist, gilt dann auch\n",
    "\n",
    "$$g\\left(x_j|x_i\\right) = N \\cdot \\exp(-(x_j-x_i)^2 = g\\left(x_i|x_j\\right)\\,.$$\n",
    "\n",
    "Damit wird der zweite Bruch in der Übergangswahrscheinlichkeit 1 und es bleibt für die Übergangswahrscheinlichkeit der Ausdruck \n",
    "\n",
    "$$ M_{i\\rightarrow j} = \\text{min}\\left(1, \\frac{f\\left(x_j\\right)}{f\\left(x_i\\right)}\\right)\\,.$$ \n",
    "\n",
    "Das entspricht genau der Übergangswahrscheinlichkeit vom Metropolis Algorithmus.\n",
    "\n",
    "## Teilaufgabe b)"
   ]
  },
  {
   "cell_type": "code",
   "execution_count": null,
   "metadata": {
    "collapsed": true
   },
   "outputs": [],
   "source": []
  }
 ],
 "metadata": {
  "kernelspec": {
   "display_name": "Python 3",
   "language": "python",
   "name": "python3"
  },
  "language_info": {
   "codemirror_mode": {
    "name": "ipython",
    "version": 3
   },
   "file_extension": ".py",
   "mimetype": "text/x-python",
   "name": "python",
   "nbconvert_exporter": "python",
   "pygments_lexer": "ipython3",
   "version": "3.6.1"
  }
 },
 "nbformat": 4,
 "nbformat_minor": 2
}
