{
 "cells": [
  {
   "cell_type": "code",
   "execution_count": 1,
   "metadata": {},
   "outputs": [],
   "source": [
    "import numpy as np \n",
    "import matplotlib.pyplot as plt \n",
    "import pandas as pd "
   ]
  },
  {
   "cell_type": "markdown",
   "metadata": {},
   "source": [
    "# Aufgabe 14"
   ]
  },
  {
   "cell_type": "markdown",
   "metadata": {},
   "source": [
    "## a)\n",
    "Logarithmieren hilft bestimmt. \n",
    "Wenn Größenordnung stark verschieden, ist es vielleicht sinnvoller ein kleineres $k$ zu wählen um vorzubeugen, dass in den großen Sprüngen dazwischen keine Daten liegen und vermeintlicher Noise als richtiger Wert gewertet wird. "
   ]
  },
  {
   "cell_type": "markdown",
   "metadata": {},
   "source": [
    "## b) \n",
    "\n",
    "Das Lernen wird durch simples Abspeichern der Trainingsdaten implementiert, insofern ist das lernen sehr ineffizient \"lazy\". Vermutlich wird es mit $n^k$ laufen. In der Anwendung ist das Verfahren dann aber effizient, da es lediglich mit den vorhandenen Daten abgleichen muss, also vermutlich sogar je nach Implementierung mit $log(n)$. "
   ]
  },
  {
   "cell_type": "markdown",
   "metadata": {},
   "source": [
    "## c) \n",
    "Siehe `class_structure.py` für die Lösung."
   ]
  },
  {
   "cell_type": "code",
   "execution_count": 2,
   "metadata": {},
   "outputs": [],
   "source": [
    "from collections import Counter\n",
    "class KNN:\n",
    "    '''KNN Classifier.\n",
    "\n",
    "    Attributes\n",
    "    ----------\n",
    "    k : int\n",
    "        Number of neighbors to consider.\n",
    "    '''\n",
    "    def __init__(self, k):\n",
    "        '''Initialization.\n",
    "        Parameters are stored as member variables/attributes.\n",
    "        \n",
    "        Parameters\n",
    "        ----------\n",
    "        k : int\n",
    "            Number of neighbors to consider.\n",
    "        '''\n",
    "        self.k = k\n",
    "\n",
    "    def fit(self, X, y):\n",
    "        '''Fit routine.\n",
    "        Training data is stored within object.\n",
    "        \n",
    "        Parameters\n",
    "        ----------print(back[0])\n",
    "        X : numpy.array, shape=(n_samples, n_attributes)\n",
    "            Training data.\n",
    "        y : numpy.array shape=(n_samples)\n",
    "            Training labels.\n",
    "        '''\n",
    "        # Code\n",
    "        self.trainingX = X\n",
    "        self.trainingy = y\n",
    "      \n",
    "\n",
    "    def predict(self, X):\n",
    "        '''Prediction routine.\n",
    "        Predict class association of each sample of X.\n",
    "        \n",
    "        Parameters\n",
    "        ----------\n",
    "        X : numpy.array, shape=(n_samples, n_attributes)\n",
    "            Data to classify.\n",
    "        \n",
    "        Returns\n",
    "        -------\n",
    "        prediction : numpy.array, shape=(n_samples)\n",
    "            Predictions, containing the predicted label of each sample.\n",
    "        '''\n",
    "        # Code\n",
    "        prediction=[]\n",
    "        for i in range(len(X)):\n",
    "            dist=[]\n",
    "            for j in range(len(self.trainingX)):\n",
    "                dist = np.append(dist, np.sqrt((X[i]-self.trainingX[j,:])@(X[i]-self.trainingX[j,:]).T))\n",
    "            index = np.argsort(dist)\n",
    "            index = index[:self.k-1]\n",
    "            p = []\n",
    "            for q in index: \n",
    "                p = np.append(p, self.trainingy[q])\n",
    "            prediction = np.append(prediction, Counter(p).most_common(1)[0][0]) \n",
    "        return prediction \n"
   ]
  },
  {
   "cell_type": "markdown",
   "metadata": {},
   "source": [
    "## d)"
   ]
  },
  {
   "cell_type": "code",
   "execution_count": 13,
   "metadata": {
    "collapsed": true
   },
   "outputs": [
    {
     "name": "stdout",
     "output_type": "stream",
     "text": [
      "Die Reinheit beträgt 34.46 %.\n",
      "Die Effizienz beträgt 89.60 %.\n",
      "Die Signifikanz beträgt 14.17.\n"
     ]
    }
   ],
   "source": [
    "# get necessary data and get rid of NaN\n",
    "train = 100 #5000\n",
    "testsignal = 250 #10000\n",
    "testbackground = 400 #20000\n",
    "signal = pd.read_hdf('NeutrinoMC.hdf5', key=\"Signal\", mode=\"r\") \n",
    "signal.head()\n",
    "sigHits = signal.NumberOfHits.values\n",
    "sigHits = sigHits[np.logical_not(np.isnan(sigHits))]\n",
    "sigX = signal.x.values\n",
    "sigX = sigX[np.logical_not(np.isnan(sigX))]\n",
    "sigY = signal.y.values\n",
    "sigY = sigY[np.logical_not(np.isnan(sigY))]\n",
    "sig = np.array([sigHits, sigX, sigY]).T\n",
    "\n",
    "background = pd.read_hdf('NeutrinoMC.hdf5', key=\"Background\", mode=\"r\")\n",
    "backHits = background.NumberOfHits.values\n",
    "backHits = backHits[np.logical_not(np.isnan(backHits))]\n",
    "backX = background.x.values\n",
    "backX = backX[np.logical_not(np.isnan(backX))]\n",
    "backY = background.y.values\n",
    "backY = backY[np.logical_not(np.isnan(backY))]\n",
    "back = np.array([backHits, backX, backY]).T\n",
    "\n",
    "TrainX = np.append(sig[:train], back[:train], axis=0)\n",
    "TrainY = np.append(np.ones(train), np.zeros(train), axis=0)\n",
    "\n",
    "TestX = np.append(sig[train:train+testsignal], back[train:train+testbackground], axis=0)\n",
    "TestY = np.append(np.ones(testsignal), np.zeros(testbackground), axis=0)\n",
    "\n",
    "knn = KNN(10)\n",
    "newfit = knn.fit(TrainX, TrainY)\n",
    "newlabel = knn.predict(TestX)\n",
    "\n",
    "def Reinheit(testy, newy): #Test y: Signal = 1, Background = 0\n",
    "    new_sig = newy[testy==1]\n",
    "    return len(new_sig[new_sig==1])/len(newy==1)\n",
    "\n",
    "def Effizienz(testy, newy):\n",
    "    test_sig, new_sig = testy[testy ==1], newy[testy==1]\n",
    "    return len(new_sig[new_sig==1])/len(test_sig)\n",
    "\n",
    "def Signifikanz(testy, newy):\n",
    "    test_sig, new_sig = testy[testy ==1], newy[testy==1]\n",
    "    return len(new_sig[new_sig==1])/np.sqrt(len(new_sig))\n",
    "    \n",
    "    \n",
    "rein = Reinheit(TestY, newlabel)*100\n",
    "eff = Effizienz(TestY, newlabel)*100\n",
    "signi = Signifikanz(TestY, newlabel)\n",
    "\n",
    "print(f\"Die Reinheit beträgt {rein:.2f} %.\\nDie Effizienz beträgt {eff:.2f} %.\\nDie Signifikanz beträgt {signi:.2f}.\")"
   ]
  },
  {
   "cell_type": "markdown",
   "metadata": {},
   "source": [
    "## e) "
   ]
  },
  {
   "cell_type": "code",
   "execution_count": 15,
   "metadata": {
    "collapsed": true
   },
   "outputs": [
    {
     "name": "stdout",
     "output_type": "stream",
     "text": [
      "Die Reinheit beträgt 37.85 %.\n",
      "Die Effizienz beträgt 98.40 %.\n",
      "Die Signifikanz beträgt 15.56.\n"
     ]
    }
   ],
   "source": [
    "logsigHits = np.log10(sigHits)\n",
    "logbackHits = np.log10(backHits)\n",
    "logSig = np.array([logsigHits, sigX, sigY]).T\n",
    "logBack = np.array([logbackHits, backX, backY]).T\n",
    "\n",
    "logTrainX = np.append(logSig[:train], logBack[:train], axis=0)\n",
    "logTrainY = np.append(np.ones(train), np.zeros(train), axis=0)\n",
    "\n",
    "logTestX = np.append(logSig[train:train+testsignal], logBack[train:train+testbackground], axis=0)\n",
    "logTestY = np.append(np.ones(testsignal), np.zeros(testbackground), axis=0)\n",
    "\n",
    "logknn = KNN(10)\n",
    "lognewfit = logknn.fit(logTrainX, logTrainY)\n",
    "lognewlabel = logknn.predict(logTestX)\n",
    "\n",
    "rein = Reinheit(logTestY, lognewlabel)*100\n",
    "eff = Effizienz(logTestY, lognewlabel)*100\n",
    "signi = Signifikanz(logTestY, lognewlabel)\n",
    "\n",
    "print(f\"Die Reinheit beträgt {rein:.2f} %.\\nDie Effizienz beträgt {eff:.2f} %.\\nDie Signifikanz beträgt {signi:.2f}.\")"
   ]
  },
  {
   "cell_type": "markdown",
   "metadata": {},
   "source": [
    "## f) "
   ]
  },
  {
   "cell_type": "code",
   "execution_count": 16,
   "metadata": {
    "collapsed": true
   },
   "outputs": [
    {
     "name": "stdout",
     "output_type": "stream",
     "text": [
      "Die Reinheit beträgt 34.92 %.\n",
      "Die Effizienz beträgt 90.80 %.\n",
      "Die Signifikanz beträgt 14.36.\n"
     ]
    }
   ],
   "source": [
    "newknn = KNN(20)\n",
    "newfit2 = newknn.fit(TrainX, TrainY)\n",
    "newlabel2 = newknn.predict(TestX)\n",
    "\n",
    "rein = Reinheit(TestY, newlabel2)*100\n",
    "eff = Effizienz(TestY, newlabel2)*100\n",
    "signi = Signifikanz(TestY, newlabel2)\n",
    "\n",
    "print(f\"Die Reinheit beträgt {rein:.2f} %.\\nDie Effizienz beträgt {eff:.2f} %.\\nDie Signifikanz beträgt {signi:.2f}.\")"
   ]
  },
  {
   "cell_type": "markdown",
   "metadata": {},
   "source": [
    "# 15 "
   ]
  },
  {
   "cell_type": "markdown",
   "metadata": {},
   "source": [
    "## a)"
   ]
  },
  {
   "cell_type": "code",
   "execution_count": 2,
   "metadata": {},
   "outputs": [
    {
     "data": {
      "image/png": "[encoded data removed]",
      "text/plain": [
       "<Figure size 432x288 with 1 Axes>"
      ]
     },
     "metadata": {
      "needs_background": "light"
     },
     "output_type": "display_data"
    }
   ],
   "source": [
    "p0 = pd.read_hdf(\"./zwei_populationen.h5\", key=\"P_0_10000\")\n",
    "p1 = pd.read_hdf(\"./zwei_populationen.h5\", key=\"P_1\")\n",
    "p0 = p0.values\n",
    "p1 = p1.values\n",
    "plt.figure()\n",
    "plt.scatter(p0[:,0],p0[:,1], label=\"Verteilung p0\")\n",
    "plt.scatter(p1[:,0], p1[:,1], label=\"Verteilung p1\")\n",
    "x = np.linspace(p0.min()-2, p1.max()+2, 10000)\n",
    "y1 = 0*x\n",
    "y2 = -(3/4)*x\n",
    "y3 = -(5/4)*x\n",
    "g1 = np.array([x,y1])\n",
    "g2 = np.array([x,y2])\n",
    "g3 = np.array([x,y3])\n",
    "plt.plot(x, y1, \"k-\", label=\"g1\" )\n",
    "plt.plot(x, y2, \"-y\", label=\"g2\")\n",
    "plt.plot(x, y3, \"-r\", label=\"g3\")\n",
    "plt.legend(loc=\"best\")\n",
    "None"
   ]
  },
  {
   "cell_type": "markdown",
   "metadata": {},
   "source": [
    "## b) "
   ]
  },
  {
   "cell_type": "code",
   "execution_count": null,
   "metadata": {},
   "outputs": [],
   "source": [
    "def proj(p, g):\n",
    "    return p@g/(g.T@g)\n",
    "\n",
    "p0_1 = proj(p0, g1)\n",
    "#p0_2 = proj(p0, g2)\n",
    "#p0_3 = proj(p0, g3)\n",
    "plt.hist(p0_1)\n",
    "#plt.hist(p0_2)\n",
    "#plt.hist(p0_3)"
   ]
  },
  {
   "cell_type": "code",
   "execution_count": null,
   "metadata": {},
   "outputs": [],
   "source": [
    "p1_1 = proj(p1, g1)\n",
    "p1_2 = proj(p1, g2)\n",
    "p1_3 = proj(p1, g3)\n",
    "np.hist(p1_1)\n",
    "np.hist(p1_2)\n",
    "np.hist(p1_3)"
   ]
  },
  {
   "cell_type": "markdown",
   "metadata": {},
   "source": [
    "## c) "
   ]
  },
  {
   "cell_type": "code",
   "execution_count": null,
   "metadata": {
    "collapsed": true
   },
   "outputs": [],
   "source": [
    "copy paste aus letztem mal"
   ]
  }
 ],
 "metadata": {
  "kernelspec": {
   "display_name": "Python 3",
   "language": "python",
   "name": "python3"
  },
  "language_info": {
   "codemirror_mode": {
    "name": "ipython",
    "version": 3
   },
   "file_extension": ".py",
   "mimetype": "text/x-python",
   "name": "python",
   "nbconvert_exporter": "python",
   "pygments_lexer": "ipython3",
   "version": "3.6.8"
  }
 },
 "nbformat": 4,
 "nbformat_minor": 2
}
