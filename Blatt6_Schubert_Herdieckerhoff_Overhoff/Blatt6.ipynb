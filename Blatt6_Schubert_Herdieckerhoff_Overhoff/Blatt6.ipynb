{
 "cells": [
  {
   "cell_type": "code",
   "execution_count": 1,
   "metadata": {},
   "outputs": [],
   "source": [
    "import numpy as np \n",
    "import matplotlib.pyplot as plt \n",
    "import pandas as pd "
   ]
  },
  {
   "cell_type": "markdown",
   "metadata": {},
   "source": [
    "# Aufgabe 14"
   ]
  },
  {
   "cell_type": "markdown",
   "metadata": {},
   "source": [
    "## a)\n",
    "Logarithmieren hilft bestimmt. \n",
    "Wenn Größenordnung stark verschieden, ist es vielleicht sinnvoller ein kleineres $k$ zu wählen um vorzubeugen, dass in den großen Sprüngen dazwischen keine Daten liegen und vermeintlicher Noise als richtiger Wert gewertet wird. "
   ]
  },
  {
   "cell_type": "markdown",
   "metadata": {},
   "source": [
    "## b) \n",
    "\n",
    "Das Lernen wird durch simples Abspeichern der Trainingsdaten implementiert, insofern ist das lernen sehr ineffizient \"lazy\". Vermutlich wird es mit $n^k$ laufen. In der Anwendung ist das Verfahren dann aber effizient, da es lediglich mit den vorhandenen Daten abgleichen muss, also vermutlich sogar mit log(n). "
   ]
  },
  {
   "cell_type": "markdown",
   "metadata": {},
   "source": [
    "## c) \n"
   ]
  },
  {
   "cell_type": "code",
   "execution_count": null,
   "metadata": {},
   "outputs": [],
   "source": [
    "def dist(sample, training): #evtl mit for-loop, wenn so nicht möglich\n",
    "    distance = np.sqrt((sample[0]-training[,0])**2 + (sample[1]-training[,1])**2) #euklidische Norm sqrt(x^2+y^2)\n",
    "    return distance\n",
    "\n",
    "def check(knearest, traininglabel):\n",
    "    sig, back = 0, 0\n",
    "    for i in len(knearest):\n",
    "        if knearest[i] in trainingslabel[0]:\n",
    "            sig += 1\n",
    "        elif knearest[i] in trainingslabel[1]:\n",
    "            back += 1 \n",
    "        else: \n",
    "            print(\"Some mistake occured.\")\n",
    "    if sig >= back: return 0 \n",
    "    else: return 1\n",
    "            \n",
    "    \n",
    "def kNN(sample, training, traininglabeled, k):\n",
    "    distance = dist(sample, training)\n",
    "    sortdist = np.argsort(distance)\n",
    "    knearest = sortdist[:k]\n",
    "    pos = check(knearest, traininglabeled)\n",
    "    if pos == 0: print(\"Sample is Signal.\")\n",
    "    else : print(\"Sample is Background.\")\n",
    "    \n",
    "    "
   ]
  },
  {
   "cell_type": "markdown",
   "metadata": {},
   "source": [
    "## d)"
   ]
  },
  {
   "cell_type": "code",
   "execution_count": null,
   "metadata": {},
   "outputs": [],
   "source": [
    "neutrino = pd.read_hdf5(\"NeutrinoMC.hdf5\")\n",
    "AnzahlHits, x, y = ... \n",
    "k = 10 \n",
    "training = np.array([AnzahlHits[:5000], x[:5000], y[:5000]]) \n",
    "test = np.array([AnzahlHits[5000:], x[5000:], y[5000:]]) \n",
    "\n",
    "training = np.([x,y])\n",
    "tra_sig, tra_back = \n",
    "traininglabeled = np.array([tra_sig], [tra_back])\n",
    "\n",
    "for i in range(len(test)):\n",
    "    kNNlist[]\n",
    "    kNNlist[i] = kNN(test[i], training, traininglabeled, 10)\n",
    "    \n",
    "reinheit = \n",
    "effizienz = \n",
    "signifikanz = \n",
    "\n",
    "print(f\"Reinheit: {reinheit*100}:.2f\\nEffizienz: {effizienz*100}:.2f\\n Signifikanz: {signifikanz*100}:.2f\")    "
   ]
  },
  {
   "cell_type": "markdown",
   "metadata": {},
   "source": [
    "## e) "
   ]
  },
  {
   "cell_type": "code",
   "execution_count": null,
   "metadata": {},
   "outputs": [],
   "source": [
    "neutrino = pd.read_hdf5(\"NeutrinoMC.hdf5\")\n",
    "AnzahlHits, x, y = ... \n",
    "k = 10 \n",
    "training = np.array([np.log10(AnzahlHits[:5000]), x[:5000], y[:5000]]) \n",
    "test = np.array([AnzahlHits[5000:], x[5000:], y[5000:]]) \n",
    "\n",
    "training = np.([x,y])\n",
    "tra_sig, tra_back = \n",
    "traininglabeled = np.array([tra_sig], [tra_back])\n",
    "\n",
    "for i in range(len(test)):\n",
    "    kNNlist[]\n",
    "    kNNlist[i] = kNN(test[i], training, traininglabeled, 10)\n",
    "    \n",
    "reinheit = \n",
    "effizienz = \n",
    "signifikanz = \n",
    "\n",
    "print(f\"Reinheit: {reinheit*100}:.2f\\nEffizienz: {effizienz*100}:.2f\\n Signifikanz: {signifikanz*100}:.2f\")    "
   ]
  },
  {
   "cell_type": "markdown",
   "metadata": {},
   "source": [
    "## f) "
   ]
  },
  {
   "cell_type": "code",
   "execution_count": null,
   "metadata": {},
   "outputs": [],
   "source": [
    "neutrino = pd.read_hdf5(\"NeutrinoMC.hdf5\")\n",
    "AnzahlHits, x, y = ... \n",
    "k = 20 \n",
    "training = np.array([np.log10(AnzahlHits[:5000]), x[:5000], y[:5000]]) \n",
    "test = np.array([AnzahlHits[5000:], x[5000:], y[5000:]]) \n",
    "\n",
    "training = np.([x,y])\n",
    "tra_sig, tra_back = \n",
    "traininglabeled = np.array([tra_sig], [tra_back])\n",
    "\n",
    "for i in range(len(test)):\n",
    "    kNNlist[]\n",
    "    kNNlist[i] = kNN(test[i], training, traininglabeled, 10)\n",
    "    \n",
    "reinheit = \n",
    "effizienz = \n",
    "signifikanz = \n",
    "\n",
    "print(f\"Reinheit: {reinheit*100}:.2f\\nEffizienz: {effizienz*100}:.2f\\n Signifikanz: {signifikanz*100}:.2f\") "
   ]
  },
  {
   "cell_type": "markdown",
   "metadata": {},
   "source": [
    "# 15 "
   ]
  },
  {
   "cell_type": "markdown",
   "metadata": {},
   "source": [
    "## a)"
   ]
  },
  {
   "cell_type": "code",
   "execution_count": null,
   "metadata": {},
   "outputs": [],
   "source": [
    "p0 = pd.read_hdf5(\"./zwei_populationen.h5\", key=\"P_0_10000\")\n",
    "p1 = pd.read_hdf5(\"./zwei_populationen.h5\", key=\"P_1\")\n",
    "\n",
    "plt.figure()\n",
    "plt.scatter(p0)\n",
    "plt.scatter(p1)\n",
    "x = np.linspace(p0.min(), p0.max(), 10000)\n",
    "y1 = 0*x\n",
    "y2 = -(3/4)*x\n",
    "y3 = -(5/4)*x\n",
    "g1 = np.array([x,y1])\n",
    "g2 = np.array([x,y2])\n",
    "g3 = np.array([x,y3])\n",
    "plt.plot(x, g1)\n",
    "plt.plot(x, g2)\n",
    "plt.plot(x, g3)"
   ]
  },
  {
   "cell_type": "markdown",
   "metadata": {},
   "source": [
    "## b) "
   ]
  },
  {
   "cell_type": "code",
   "execution_count": null,
   "metadata": {},
   "outputs": [],
   "source": [
    "def proj(p):\n",
    "    return p@g1/(g1@g1), p@g2/(g2@g2), p@g3/(g3@g3)\n",
    "\n",
    "p0_1, p0_2, p0_3 = proj(p0)\n",
    "p1_1, p1_2, p1_3 = proj(p1)  \n",
    "\n",
    "np.hist(p0_1)\n",
    "np.hist(p0_2)\n",
    "np.hist(p0_3)\n",
    "\n",
    "np.hist(p1_1)\n",
    "np.hist(p1_2)\n",
    "np.hist(p1_3)"
   ]
  },
  {
   "cell_type": "markdown",
   "metadata": {},
   "source": [
    "## c) "
   ]
  },
  {
   "cell_type": "code",
   "execution_count": null,
   "metadata": {},
   "outputs": [],
   "source": [
    "copy paste aus letztem mal"
   ]
  }
 ],
 "metadata": {
  "kernelspec": {
   "display_name": "Python 3",
   "language": "python",
   "name": "python3"
  },
  "language_info": {
   "codemirror_mode": {
    "name": "ipython",
    "version": 3
   },
   "file_extension": ".py",
   "mimetype": "text/x-python",
   "name": "python",
   "nbconvert_exporter": "python",
   "pygments_lexer": "ipython3",
   "version": "3.6.8"
  }
 },
 "nbformat": 4,
 "nbformat_minor": 2
}
