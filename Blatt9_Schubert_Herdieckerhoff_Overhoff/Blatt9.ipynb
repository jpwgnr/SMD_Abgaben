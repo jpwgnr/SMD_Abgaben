{
 "cells": [
  {
   "cell_type": "code",
   "execution_count": 48,
   "metadata": {},
   "outputs": [],
   "source": [
    "import numpy as np\n",
    "import matplotlib.pyplot as plt"
   ]
  },
  {
   "cell_type": "code",
   "execution_count": 49,
   "metadata": {},
   "outputs": [
    {
     "name": "stdout",
     "output_type": "stream",
     "text": [
      "b)\n"
     ]
    },
    {
     "data": {
      "image/png": "[encoded data removed]",
      "text/plain": [
       "<Figure size 432x288 with 1 Axes>"
      ]
     },
     "metadata": {
      "needs_background": "light"
     },
     "output_type": "display_data"
    },
    {
     "name": "stdout",
     "output_type": "stream",
     "text": [
      "c)\n",
      "Für x = -3.0:\n",
      "\t Numerisch: \ty = -1.99873 +/- 0.634144.\n",
      "\t Analytisch: \ty = -2.0 +/- 0.632456.\n",
      "\n",
      "Für x = 0.0:\n",
      "\t Numerisch: \ty = 1.00028 +/- 0.200064.\n",
      "\t Analytisch: \ty = 1.0 +/- 0.2.\n",
      "\n",
      "Für x = 3.0:\n",
      "\t Numerisch: \ty = 3.99928 +/- 0.633123.\n",
      "\t Analytisch: \ty = 4.0 +/- 0.632456.\n",
      "\n"
     ]
    }
   ],
   "source": [
    "def f(x, a0, a1):\n",
    "    return a0 + x* a1\n",
    "\n",
    "ana_y =np.array([[-3, 0, 3],[-2, 1, 4], [0.632456, 0.2, 0.632456]]).T\n",
    "x = [-3, 0, 3]\n",
    "a0 = np.random.normal(1.0, 0.2, 10**5)\n",
    "a1 = np.random.normal(1.0, 0.2, 10**5)\n",
    "\n",
    "print(\"b)\")\n",
    "plt.scatter(a0, a1)\n",
    "plt.show()\n",
    "print(\"c)\")\n",
    "for i in ana_y:\n",
    "    y = f(i[0], a0, a1)\n",
    "    y_mean= y.mean() \n",
    "    y_std = y.std()\n",
    "    print(f\"Für x = {i[0]}:\\n\\t Numerisch: \\ty = {y_mean:.6} +/- {y_std:.6}.\\n\\t Analytisch: \\ty = {i[1]} +/- {i[2]}.\\n\")\n",
    "    \n",
    "None"
   ]
  },
  {
   "cell_type": "markdown",
   "metadata": {},
   "source": [
    "## Nr. 4a)"
   ]
  },
  {
   "cell_type": "code",
   "execution_count": 62,
   "metadata": {},
   "outputs": [
    {
     "name": "stdout",
     "output_type": "stream",
     "text": [
      "c) Der Fehler von a1 ist 4.32e-03, von a2 4.68e-03 und der Korrelationskoeffizient ist -2.17e-07.\n"
     ]
    }
   ],
   "source": [
    "def func1(psi):\n",
    "    return np.cos(psi)\n",
    "\n",
    "def func2(psi):\n",
    "    return np.sin(psi)\n",
    "\n",
    "psi = np.linspace(0,330, 12)\n",
    "y = np.array([-0.032,  0.010,  0.057, 0.068 , 0.076,  0.080, 0.031 , 0.005, -0.041, -0.090, -0.088, -0.074])\n",
    "sigma2 = 0.011**2\n",
    "A = np.array([func1(psi), func2(psi)]).T\n",
    "a = np.linalg.inv(A.T @ A) @ A.T @ y\n",
    "Vy = sigma2 * np.eye(len(y))\n",
    "\n",
    "Va = np.linalg.inv(A.T @ A) @ A.T @ Vy @ A @ np.linalg.inv(A.T @ A)\n",
    "\n",
    "sigmaa1 = np.sqrt(Va[0,0])\n",
    "sigmaa2 = np.sqrt(Va[1,1])\n",
    "korr = Va[0,1]\n",
    "\n",
    "print(f\"c) Der Fehler von a1 ist {sigmaa1:.2e}, von a2 {sigmaa2:.2e} und der Korrelationskoeffizient ist {korr:.2e}.\")\n",
    "\n"
   ]
  }
 ],
 "metadata": {
  "kernelspec": {
   "display_name": "Python 3",
   "language": "python",
   "name": "python3"
  },
  "language_info": {
   "codemirror_mode": {
    "name": "ipython",
    "version": 3
   },
   "file_extension": ".py",
   "mimetype": "text/x-python",
   "name": "python",
   "nbconvert_exporter": "python",
   "pygments_lexer": "ipython3",
   "version": "3.7.4"
  }
 },
 "nbformat": 4,
 "nbformat_minor": 2
}
