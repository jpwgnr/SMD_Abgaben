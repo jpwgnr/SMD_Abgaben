{
 "cells": [
  {
   "cell_type": "markdown",
   "metadata": {},
   "source": [
    "# Blatt 9"
   ]
  },
  {
   "cell_type": "markdown",
   "metadata": {},
   "source": [
    "## Aufgabe 1) Fehlerfortpflanzung"
   ]
  },
  {
   "cell_type": "markdown",
   "metadata": {},
   "source": [
    "* Ausgleichsgerade $y = a_0 + a_1 x$ mit Parametern $a_0 = 1.0 \\pm 0.2$ und $a_1 = 1.0 \\pm 0.2$\n",
    "\n",
    "* Korrelationskoeffizient $\\rho = -0.8$\n",
    "\n",
    "Unsicherheit eines Wertes $y$ bestimmen:"
   ]
  },
  {
   "cell_type": "markdown",
   "metadata": {},
   "source": [
    "### a) analytisch"
   ]
  },
  {
   "cell_type": "markdown",
   "metadata": {},
   "source": [
    "$\\bar{y} = \\bar{a_0} + \\bar{a_1} x$\n",
    "\n"
   ]
  },
  {
   "cell_type": "markdown",
   "metadata": {},
   "source": [
    "* Ohne Berücksichtigung der Korrelation\n",
    "\n",
    "$\\sigma_y = \\sqrt{\\left(\\frac{\\partial y}{\\partial a_0} \\sigma_{a_0}\\right)^2 + \\left(\\frac{\\partial y}{\\partial a_1} \\sigma_{a_1}\\right)^2} = \\sqrt{\\sigma_{a_0}^2 + x^2 \\sigma_{a_1}^2} = 0.2 \\cdot \\sqrt{1+x^2}$\n"
   ]
  },
  {
   "cell_type": "markdown",
   "metadata": {},
   "source": [
    "* Mit Berücksichtigung der Korrelation\n",
    "\n",
    "$\\sigma_y = \\sqrt{\\left(\\frac{\\partial y}{\\partial a_0} \\sigma_{a_0}\\right)^2 + \\left(\\frac{\\partial y}{\\partial a_1} \\sigma_{a_1}\\right)^2 + 2 \\frac{\\partial y}{\\partial a_0} \\frac{\\partial y}{\\partial a_1} cov(a_0, a_1)}$\n",
    "\n",
    "mit $\\rho = \\frac{cov(a_0, a_1)}{\\sigma_{a_0} \\sigma_{a_1}} \\Rightarrow cov = \\rho \\sigma_{a_0} \\sigma_{a_1}$\n",
    "\n",
    "$\\sigma_y = \\sqrt{\\sigma_{a_0}^2 + x^2 \\sigma_{a_1}^2 - 2 x \\rho \\sigma_{a_0} \\sigma_{a_1}} = \\sqrt{0.04 + 0.04 x^2 - 0.064 x} = 0.2 \\cdot \\sqrt{x^2 - 1.6 x +1}$"
   ]
  },
  {
   "cell_type": "markdown",
   "metadata": {},
   "source": [
    "### b) numerisch"
   ]
  },
  {
   "cell_type": "code",
   "execution_count": 2,
   "metadata": {},
   "outputs": [],
   "source": [
    "import numpy as np\n",
    "import matplotlib.pyplot as plt"
   ]
  },
  {
   "cell_type": "code",
   "execution_count": 3,
   "metadata": {
    "scrolled": false
   },
   "outputs": [
    {
     "name": "stdout",
     "output_type": "stream",
     "text": [
      "b)\n"
     ]
    },
    {
     "data": {
      "image/png": "[encoded data removed]",
      "text/plain": [
       "<Figure size 432x288 with 1 Axes>"
      ]
     },
     "metadata": {
      "needs_background": "light"
     },
     "output_type": "display_data"
    },
    {
     "name": "stdout",
     "output_type": "stream",
     "text": [
      "c)\n",
      "Für x = -3.0:\n",
      "\t Numerisch: \ty = -1.99661 +/- 0.633159.\n",
      "\t Analytisch: \ty = -2.0 +/- 0.632456.\n",
      "\n",
      "Für x = 0.0:\n",
      "\t Numerisch: \ty = 0.999618 +/- 0.200724.\n",
      "\t Analytisch: \ty = 1.0 +/- 0.2.\n",
      "\n",
      "Für x = 3.0:\n",
      "\t Numerisch: \ty = 3.99584 +/- 0.632721.\n",
      "\t Analytisch: \ty = 4.0 +/- 0.632456.\n",
      "\n"
     ]
    }
   ],
   "source": [
    "def f(x, a0, a1):\n",
    "    return a0 + x* a1\n",
    "\n",
    "ana_y =np.array([[-3, 0, 3],[-2, 1, 4], [0.632456, 0.2, 0.632456]]).T\n",
    "x = [-3, 0, 3]\n",
    "a0 = np.random.normal(1.0, 0.2, 10**5)\n",
    "a1 = np.random.normal(1.0, 0.2, 10**5)\n",
    "\n",
    "print(\"b)\")\n",
    "plt.scatter(a0, a1)\n",
    "plt.show()\n",
    "print(\"c)\")\n",
    "for i in ana_y:\n",
    "    y = f(i[0], a0, a1)\n",
    "    y_mean= y.mean() \n",
    "    y_std = y.std()\n",
    "    print(f\"Für x = {i[0]}:\\n\\t Numerisch: \\ty = {y_mean:.6} +/- {y_std:.6}.\\n\\t Analytisch: \\ty = {i[1]} +/- {i[2]}.\\n\")\n",
    "    \n",
    "None"
   ]
  },
  {
   "cell_type": "markdown",
   "metadata": {},
   "source": [
    "## Nr. 4"
   ]
  },
  {
   "cell_type": "code",
   "execution_count": 10,
   "metadata": {},
   "outputs": [],
   "source": [
    "import uncertainties.unumpy as unp \n",
    "from uncertainties import ufloat"
   ]
  },
  {
   "cell_type": "code",
   "execution_count": 13,
   "metadata": {},
   "outputs": [
    {
     "name": "stdout",
     "output_type": "stream",
     "text": [
      "a) A: \n",
      " [[ 1.          0.        ]\n",
      " [ 0.15425145 -0.98803162]\n",
      " [-0.95241298 -0.30481062]\n",
      " [-0.44807362  0.89399666]\n",
      " [ 0.81418097  0.58061118]\n",
      " [ 0.69925081 -0.71487643]\n",
      " [-0.59846007 -0.80115264]\n",
      " [-0.88387747  0.46771852]\n",
      " [ 0.32578131  0.94544515]\n",
      " [ 0.98438195 -0.17604595]\n",
      " [-0.02209662 -0.99975584]\n",
      " [-0.99119882 -0.13238163]]\n",
      "b) a:\n",
      " [-0.00738765  0.01328259]\n",
      "c) V[a]: \n",
      " [[ 1.86721276e-05 -2.17340331e-07]\n",
      " [-2.17340331e-07  2.19267708e-05]] \n",
      "\n",
      " Der Fehler von a1 ist 4.32e-03, von a2 4.68e-03 und der Korrelationskoeffizient ist -2.17e-07.\n",
      " Der Wert delta ergibt sich zu delta=1.06+/-0.29.\n",
      " Der Wert A ergibt sich zu A=-0.015+/-0.005.\n"
     ]
    }
   ],
   "source": [
    "def func1(psi):\n",
    "    return np.cos(psi)\n",
    "\n",
    "def func2(psi):\n",
    "    return np.sin(psi)\n",
    "\n",
    "psi = np.linspace(0,330, 12)\n",
    "y = np.array([-0.032,  0.010,  0.057, 0.068 , 0.076,  0.080, 0.031 , 0.005, -0.041, -0.090, -0.088, -0.074])\n",
    "sigma2 = 0.011**2\n",
    "A = np.array([func1(psi), func2(psi)]).T\n",
    "\n",
    "print(\"a) A: \\n\", A)\n",
    "a = np.linalg.inv(A.T @ A) @ A.T @ y\n",
    "\n",
    "print(\"b) a:\\n\", a)\n",
    "Vy = sigma2 * np.eye(len(y))\n",
    "\n",
    "Va = np.linalg.inv(A.T @ A) @ A.T @ Vy @ A @ np.linalg.inv(A.T @ A)\n",
    "print(\"c) V[a]: \\n\", Va, \"\\n\")\n",
    "sigmaa1 = np.sqrt(Va[0,0])\n",
    "sigmaa2 = np.sqrt(Va[1,1])\n",
    "korr = Va[0,1]\n",
    "\n",
    "print(f\" Der Fehler von a1 ist {sigmaa1:.2e}, von a2 {sigmaa2:.2e} und der Korrelationskoeffizient ist {korr:.2e}.\")\n",
    "\n",
    "\n",
    "a1 = ufloat(a[0], sigmaa1)\n",
    "a2 = ufloat(a[1], sigmaa2)\n",
    "\n",
    "\n",
    "delta = unp.arctan(-a2/a1)\n",
    "print(f\" Der Wert delta ergibt sich zu delta={delta}.\")\n",
    "A = a1/unp.cos(delta)\n",
    "print(f\" Der Wert A ergibt sich zu A={A}.\")"
   ]
  }
 ],
 "metadata": {
  "kernelspec": {
   "display_name": "Python 3",
   "language": "python",
   "name": "python3"
  },
  "language_info": {
   "codemirror_mode": {
    "name": "ipython",
    "version": 3
   },
   "file_extension": ".py",
   "mimetype": "text/x-python",
   "name": "python",
   "nbconvert_exporter": "python",
   "pygments_lexer": "ipython3",
   "version": "3.7.4"
  }
 },
 "nbformat": 4,
 "nbformat_minor": 2
}
