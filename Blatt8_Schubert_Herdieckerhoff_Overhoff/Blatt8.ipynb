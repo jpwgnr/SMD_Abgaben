{
 "cells": [
  {
   "cell_type": "markdown",
   "metadata": {},
   "source": [
    "# Blatt 8"
   ]
  },
  {
   "cell_type": "markdown",
   "metadata": {},
   "source": [
    "## Nr. 1a)"
   ]
  },
  {
   "cell_type": "markdown",
   "metadata": {},
   "source": [
    "### Was beschreibt die Lossfunktion?\n",
    "\n",
    "Wir betrachten zwei Wahrscheinlichkeitsdichtefunktionen $p$ und $q$. Die Lossfunktion ergibt kleinere Werte für ähnliche Verteilungen $q$ und $p$. Bei einem Klassifizierungsproblem ist $p$ die wahre Verteilung der Klassen für ein gegebenes $x$, $q(x)$ ist die geschätzte Verteilung, die vom Machine-Learner erstellt wurde. Die Loss-Funktion gibt praktisch die Abweichung der geschätzen Verteilung von der wahren Verteilung an, die pro Entscheidung entsteht. Diese Abweichung soll in Klassifikationsproblemen minimiert werden."
   ]
  },
  {
   "cell_type": "markdown",
   "metadata": {},
   "source": [
    "### Wie kann sie minimiert werden?\n",
    "\n",
    "Die Gewichtsmatrix $\\mathbf{W}$ wird minimiert. Es kann z.B. zufällig nach Matrixeinträgen gesucht werden, die eine bessere Loss-Funktion erhalten. Es geht aber auch anders. \n",
    "Oft genügt es ein lokales Optimum zu finden. Das Problem kann auch konvex umformuliert werden. Dann findet der lokale Optimierer garantiert das globale Optimum.\n",
    "Man kann es mit einem inkrementellen Ansatz verschen. Dabei behalten wir das beste gefundene $\\mathbf{W}$ und fügen eine zufällige Richtung hinzu. Noch besser wird man, wenn man in jeder Iteration den Gradienten der Verlustfunktion verfolgt."
   ]
  },
  {
   "cell_type": "markdown",
   "metadata": {},
   "source": [
    "### Welche Funktion haben Aktivierungsfunktionen bzw. welche Probleme werden durch sie gelöst? \n",
    "\n",
    "\n",
    "Aktivierungsfunktion soll die Aktivierung eines biologischen Neurons simulieren. Sie bestimmt die Ausgabe des künstlichen Neurons. Als Aktivierungsfunktion können nichtlineare Funktionen verwendet werden, die den Raum verzerren und somit auch linear nicht lösbare Probleme lösbar machen, ohne die Komplexität des Netzes zu erhöhen.\n",
    "\n",
    "Gängige Aktivierungsfunktionen sind die Sigmoid-Funktion, der Tangens Hyperbolicus uns ReLu (Rectified Linear Unit).\n",
    "\n",
    "Sie werden benutzt um in der End-/Ausgabeschicht eines Nezwerks Wahrscheinlichkeitsschätzungen anzustellen."
   ]
  },
  {
   "cell_type": "markdown",
   "metadata": {},
   "source": [
    "### Was ist ein Neuron?\n",
    "\n",
    "Ein Neuron ist das Basisobjekt für neuronale Netze. Es kann Eingaben verarbeiten und reagieren. Ein Neuron kann durch vier Basiselemente beschrieben werden:\n",
    "* Gewichtung: Die Gewichte bestimmen den Grad ds Einflusses den die Eingaben des Neurons in der Berechnung einnimmt.\n",
    "* Übertragungsfunktion: Berechnet Anahnd der Gewichtung der Eingabe die Netzeingabe.\n",
    "* Aktivierungsfunktion: Bestimmt die Ausgabe. Wird beeinflusst durch die Netzeingabe und einem Schwellwert.\n",
    "* Schwellwert: Addieren eines Schwellenwerts verschiebt die gewichtete Eingabe. "
   ]
  },
  {
   "cell_type": "markdown",
   "metadata": {},
   "source": [
    "### Hier drei Anwendungsbeispiele für Neuronale Netze.\n",
    "\n",
    "* Gesichtserkennung\n",
    "* Spracherkennung\n",
    "* Autonomes Fahren\n",
    "\n",
    "Geberell sind neuronale Netze immer besonders sinnvoll, wenn wenig a priori Wissen über das Problem vorliegt und eine große Datenmenge verarbeitet werden muss, um wenige Ergebnisse zu erhalten."
   ]
  },
  {
   "cell_type": "markdown",
   "metadata": {},
   "source": [
    "## Nr. 2"
   ]
  },
  {
   "cell_type": "markdown",
   "metadata": {},
   "source": [
    "### a) \n",
    "Dimensionen:\n",
    "* $x_i = 1\\times M $ \n",
    "* $C = 1\\times 1 $\n",
    "* $W = M\\times K$\n",
    "* $b = K\\times 1 $\n",
    "\n",
    "Das stimmt noch nicht: :D \n",
    "* $\\nabla_{W_a} \\hat{C} = K \\times M $\n",
    "* $\\nabla_{f_{a,i}} \\hat{C} = 1 \\times 1 $\n",
    "* $\\frac{\\partial f_{k,i}}{\\partial W} = M \\times 1 $\n",
    "* $\\frac{\\partial f_{k,i}}{\\partial b} = M \\times 1 $"
   ]
  },
  {
   "cell_type": "markdown",
   "metadata": {},
   "source": [
    "### b)"
   ]
  },
  {
   "cell_type": "markdown",
   "metadata": {},
   "source": [
    "$\\nabla_{f_{a,i}} C\\left(f\\right) = \n",
    "\\frac{1}{m} \\sum_{i=1}^{m} \\left[ \\sum_{k=1}^{K} -\\mathbf{1}(y_i = k) \\nabla_{f_{a,i}} \\log\\left(\\frac{\\exp\\left(f_{k,i}\\right)}{\\sum_{j} \\exp\\left(f_{j,i}\\right) }\\right) \\right] \\\\\n",
    "= \\frac{1}{m} \\sum_{i=1}^{m} \\left[-\\mathbf{1}(y_i = a) \\nabla_{f_{a,i}} \\log\\left(\\frac{\\exp\\left(f_{k,i}\\right)}{\\sum_{j} \\exp\\left(f_{j,i}\\right) }\\right) \\right] \\\\\n",
    "= \\frac{1}{m} \\sum_{i=1}^{m} \\left[-\\mathbf{1}(y_i = a) \\left(\\frac{\\sum_{j} \\exp\\left(f_{j,i}\\right) }{\\exp\\left(f_{a,i}\\right)}\\right) \\frac{\\partial}{\\partial f_{a,i}} \\left(\\frac{\\exp\\left(f_{k,i}\\right)}{\\sum_{j} \\exp\\left(f_{j,i}\\right) }\\right)  \\right] \\\\\n",
    "= \\frac{1}{m} \\sum_{i=1}^{m} \\left[-\\mathbf{1}(y_i = a) \\left(\\frac{\\sum_{j} \\exp\\left(f_{j,i}\\right) }{\\exp\\left(f_{a,i}\\right)}\\right) \\cdot \\left(\\frac{\\exp\\left(f_{a,i}\\right) \\cdot \\sum_{j} \\exp\\left(f_{a,i}\\right) - {\\exp\\left(f_{a,i}\\right)}^2}{\\left(\\sum_{j} \\exp\\left(f_{j,i}\\right)\\right)^{2} }\\right)  \\right] \\\\\n",
    "= \\frac{1}{m} \\sum_{i=1}^{m} \\left[\\frac{\\exp\\left(f_{a,i}\\right)}{\\sum_{j} \\exp\\left(f_{j,i}\\right) } -\\mathbf{1}(y_i = a) \\right]$"
   ]
  },
  {
   "cell_type": "markdown",
   "metadata": {},
   "source": [
    "### c) "
   ]
  },
  {
   "cell_type": "markdown",
   "metadata": {},
   "source": [
    "Mit $ f_{k,i} = W_k x_i + b_k $ \n",
    "ergibt sich die Ableitung von $f_{k,i}$ nach $W_a$ zu \n",
    "\n",
    "$$ \\nabla_{W_a} f_{k,i} = \\nabla_{W_a}\\left(W_k x_i + b_k \\right) = \\delta_{ak} x_i^T $$\n",
    "\n",
    "und die Ableitung nach $b_a$ zu \n",
    "\n",
    "$$ \\nabla_{b_a} f_{k,i} = \\nabla_{b_a}\\left(W_k x_i + b_k \\right) = \\delta_{ak}. $$"
   ]
  },
  {
   "cell_type": "markdown",
   "metadata": {},
   "source": [
    "### d) "
   ]
  },
  {
   "cell_type": "code",
   "execution_count": 2,
   "metadata": {},
   "outputs": [],
   "source": [
    "import numpy as np \n",
    "import matplotlib.pyplot as plt \n",
    "import pandas as pd \n",
    "import tqdm as tqdm"
   ]
  },
  {
   "cell_type": "code",
   "execution_count": 3,
   "metadata": {},
   "outputs": [],
   "source": [
    "df0 = pd.read_hdf(\"populationen.hdf5\", key=\"P_0\")\n",
    "df1 = pd.read_hdf(\"populationen.hdf5\", key=\"P_1\")\n",
    "y = np.concatenate([np.zeros(len(df0)), np.ones(len(df1))])\n",
    "X = pd.concat([df0, df1]).values"
   ]
  },
  {
   "cell_type": "code",
   "execution_count": 4,
   "metadata": {},
   "outputs": [
    {
     "data": {
      "image/png": "[encoded data removed]",
      "text/plain": [
       "<Figure size 432x288 with 1 Axes>"
      ]
     },
     "metadata": {
      "needs_background": "light"
     },
     "output_type": "display_data"
    }
   ],
   "source": [
    "plt.scatter(X[:9999,0], X[:9999,1], label=\"0\")\n",
    "plt.scatter(X[10000:,0], X[10000:,1], label=\"1\")\n",
    "plt.legend(loc=\"best\")\n",
    "None"
   ]
  },
  {
   "cell_type": "code",
   "execution_count": 5,
   "metadata": {},
   "outputs": [],
   "source": [
    "#learning rate h= 0.5, 100 Epochen, 2 Klassen K (1 oder 0), p (x und y)\n",
    "K = 2\n",
    "p = 2\n",
    "h = 0.5\n",
    "\n",
    "np.random.seed(42)\n",
    "W = np.random.normal(size=(p, K)) \n",
    "b = np.random.normal(size=(p,1))\n",
    "    "
   ]
  },
  {
   "cell_type": "code",
   "execution_count": 6,
   "metadata": {},
   "outputs": [],
   "source": [
    "def softmax(f):\n",
    "    f_new = f - f.max()\n",
    "    p = np.exp(f_new).T/np.sum(np.exp(f_new), axis=1)\n",
    "    return p.T\n",
    "\n",
    "def indicator(y, k):\n",
    "    if y == k:\n",
    "        return 1\n",
    "    else:\n",
    "        return 0"
   ]
  }
 ],
 "metadata": {
  "kernelspec": {
   "display_name": "Python 3",
   "language": "python",
   "name": "python3"
  },
  "language_info": {
   "codemirror_mode": {
    "name": "ipython",
    "version": 3
   },
   "file_extension": ".py",
   "mimetype": "text/x-python",
   "name": "python",
   "nbconvert_exporter": "python",
   "pygments_lexer": "ipython3",
   "version": "3.7.3"
  }
 },
 "nbformat": 4,
 "nbformat_minor": 2
}
