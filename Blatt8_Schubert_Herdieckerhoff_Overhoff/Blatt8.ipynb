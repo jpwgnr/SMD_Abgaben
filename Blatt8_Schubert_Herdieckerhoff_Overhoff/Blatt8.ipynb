{
 "cells": [
  {
   "cell_type": "markdown",
   "metadata": {},
   "source": [
    "# Blatt 8"
   ]
  },
  {
   "cell_type": "markdown",
   "metadata": {},
   "source": [
    "## Nr. 1a)"
   ]
  },
  {
   "cell_type": "markdown",
   "metadata": {},
   "source": [
    "### Was beschreibt die Lossfunktion?\n",
    "\n",
    "Wir betrachten zwei Wahrscheinlichkeitsdichtefunktionen $p$ und $q$. Die Lossfunktion ergibt kleinere Werte für ähnliche Verteilungen $q$ und $p$. Bei einem Klassifizierungsproblem ist $p$ die wahre Verteilung der Klassen für ein gegebenes $x$, $q(x)$ ist die geschätzte Verteilung, die vom Machine-Learner erstellt wurde. Die Loss-Funktion gibt praktisch die Abweichung der geschätzen Verteilung von der wahren Verteilung an, die pro Entscheidung entsteht. Diese Abweichung soll in Klassifikationsproblemen minimiert werden."
   ]
  },
  {
   "cell_type": "markdown",
   "metadata": {},
   "source": [
    "### Wie kann sie minimiert werden?\n",
    "\n",
    "Die Gewichtsmatrix $\\mathbf{W}$ wird minimiert. Es kann z.B. zufällig nach Matrixeinträgen gesucht werden, die eine bessere Loss-Funktion erhalten. Es geht aber auch anders. \n",
    "Oft genügt es ein lokales Optimum zu finden. Das Problem kann auch konvex umformuliert werden. Dann findet der lokale Optimierer garantiert das globale Optimum.\n",
    "Man kann es mit einem inkrementellen Ansatz verschen. Dabei behalten wir das beste gefundene $\\mathbf{W}$ und fügen eine zufällige Richtung hinzu. Noch besser wird man, wenn man in jeder Iteration den Gradienten der Verlustfunktion verfolgt."
   ]
  },
  {
   "cell_type": "markdown",
   "metadata": {},
   "source": [
    "### Welche Funktion haben Aktivierungsfunktionen bzw. welche Probleme werden durch sie gelöst? \n",
    "\n",
    "\n",
    "Aktivierungsfunktion soll die Aktivierung eines biologischen Neurons simulieren. Sie bestimmt die Ausgabe des künstlichen Neurons. Als Aktivierungsfunktion können nichtlineare Funktionen verwendet werden, die den Raum verzerren und somit auch linear nicht lösbare Probleme lösbar machen, ohne die Komplexität des Netzes zu erhöhen.\n",
    "\n",
    "Gängige Aktivierungsfunktionen sind die Sigmoid-Funktion, der Tangens Hyperbolicus uns ReLu (Rectified Linear Unit).\n",
    "\n",
    "Sie werden benutzt um in der End-/Ausgabeschicht eines Nezwerks Wahrscheinlichkeitsschätzungen anzustellen."
   ]
  },
  {
   "cell_type": "markdown",
   "metadata": {},
   "source": [
    "### Was ist ein Neuron?\n",
    "\n",
    "Ein Neuron ist das Basisobjekt für neuronale Netze. Es kann Eingaben verarbeiten und reagieren. Ein Neuron kann durch vier Basiselemente beschrieben werden:\n",
    "* Gewichtung: Die Gewichte bestimmen den Grad ds Einflusses den die Eingaben des Neurons in der Berechnung einnimmt.\n",
    "* Übertragungsfunktion: Berechnet Anahnd der Gewichtung der Eingabe die Netzeingabe.\n",
    "* Aktivierungsfunktion: Bestimmt die Ausgabe. Wird beeinflusst durch die Netzeingabe und einem Schwellwert.\n",
    "* Schwellwert: Addieren eines Schwellenwerts verschiebt die gewichtete Eingabe. "
   ]
  },
  {
   "cell_type": "markdown",
   "metadata": {},
   "source": [
    "### Hier drei Anwendungsbeispiele für Neuronale Netze.\n",
    "\n",
    "* Gesichtserkennung\n",
    "* Spracherkennung\n",
    "* Autonomes Fahren\n",
    "\n",
    "Geberell sind neuronale Netze immer besonders sinnvoll, wenn wenig a priori Wissen über das Problem vorliegt und eine große Datenmenge verarbeitet werden muss, um wenige Ergebnisse zu erhalten."
   ]
  },
  {
   "cell_type": "markdown",
   "metadata": {},
   "source": [
    "## Nr. 2"
   ]
  },
  {
   "cell_type": "markdown",
   "metadata": {},
   "source": [
    "### a) \n",
    "Dimensionen:\n",
    "* $x_i = 1\\times M $ \n",
    "* $C = 1\\times 1 $\n",
    "* $W = M\\times K$\n",
    "* $b = 1\\times K$ \n",
    "* $\\nabla_{W} \\hat{C} = K \\times M $\n",
    "* $\\nabla_{f_{i}} \\hat{C} = K \\times 1 $\n",
    "* $\\frac{\\partial f_{k,i}}{\\partial W} = M \\times K $\n",
    "* $\\frac{\\partial f_{k,i}}{\\partial b} = 1 \\times K $"
   ]
  },
  {
   "cell_type": "markdown",
   "metadata": {},
   "source": [
    "### b)"
   ]
  },
  {
   "cell_type": "markdown",
   "metadata": {},
   "source": [
    "$\\nabla_{f_{a,i}} C\\left(f\\right) = \n",
    "\\frac{1}{m} \\sum_{i=1}^{m} \\left[ \\sum_{k=1}^{K} -\\mathbf{1}(y_i = k) \\nabla_{f_{a,i}} \\log\\left(\\frac{\\exp\\left(f_{k,i}\\right)}{\\sum_{j} \\exp\\left(f_{j,i}\\right) }\\right) \\right] \\\\\n",
    "= \\frac{1}{m} \\sum_{i=1}^{m} \\left[-\\mathbf{1}(y_i = a) \\nabla_{f_{a,i}} \\log\\left(\\frac{\\exp\\left(f_{k,i}\\right)}{\\sum_{j} \\exp\\left(f_{j,i}\\right) }\\right) \\right] \\\\\n",
    "= \\frac{1}{m} \\sum_{i=1}^{m} \\left[-\\mathbf{1}(y_i = a) \\left(\\frac{\\sum_{j} \\exp\\left(f_{j,i}\\right) }{\\exp\\left(f_{a,i}\\right)}\\right) \\frac{\\partial}{\\partial f_{a,i}} \\left(\\frac{\\exp\\left(f_{k,i}\\right)}{\\sum_{j} \\exp\\left(f_{j,i}\\right) }\\right)  \\right] \\\\\n",
    "= \\frac{1}{m} \\sum_{i=1}^{m} \\left[-\\mathbf{1}(y_i = a) \\left(\\frac{\\sum_{j} \\exp\\left(f_{j,i}\\right) }{\\exp\\left(f_{a,i}\\right)}\\right) \\cdot \\left(\\frac{\\exp\\left(f_{a,i}\\right) \\cdot \\sum_{j} \\exp\\left(f_{a,i}\\right) - {\\exp\\left(f_{a,i}\\right)}^2}{\\left(\\sum_{j} \\exp\\left(f_{j,i}\\right)\\right)^{2} }\\right)  \\right] \\\\\n",
    "= \\frac{1}{m} \\sum_{i=1}^{m} \\left[\\frac{\\exp\\left(f_{a,i}\\right)}{\\sum_{j} \\exp\\left(f_{j,i}\\right) } -\\mathbf{1}(y_i = a) \\right]$"
   ]
  },
  {
   "cell_type": "markdown",
   "metadata": {},
   "source": [
    "### c) "
   ]
  },
  {
   "cell_type": "markdown",
   "metadata": {},
   "source": [
    "Mit $ f_{k,i} = W_k x_i + b_k $ \n",
    "ergibt sich die Ableitung von $f_{k,i}$ nach $W_a$ zu \n",
    "\n",
    "$$ \\nabla_{W_a} f_{k,i} = \\nabla_{W_a}\\left(W_k x_i + b_k \\right) = \\delta_{ak} x_i^T $$\n",
    "\n",
    "und die Ableitung nach $b_a$ zu \n",
    "\n",
    "$$ \\nabla_{b_a} f_{k,i} = \\nabla_{b_a}\\left(W_k x_i + b_k \\right) = \\delta_{ak}. $$"
   ]
  },
  {
   "cell_type": "markdown",
   "metadata": {},
   "source": [
    "### d) "
   ]
  },
  {
   "cell_type": "code",
   "execution_count": 1,
   "metadata": {},
   "outputs": [],
   "source": [
    "import numpy as np \n",
    "import matplotlib.pyplot as plt \n",
    "import pandas as pd \n",
    "from tqdm import tqdm"
   ]
  },
  {
   "cell_type": "markdown",
   "metadata": {},
   "source": [
    "Im Folgenden werden die Daten eingelesen und zu einem Array zusammengefügt. Außerdem werden labels erzeugt. "
   ]
  },
  {
   "cell_type": "code",
   "execution_count": 2,
   "metadata": {},
   "outputs": [],
   "source": [
    "df0 = pd.read_hdf(\"populationen.hdf5\", key=\"P_0\")\n",
    "df1 = pd.read_hdf(\"populationen.hdf5\", key=\"P_1\")\n",
    "y = np.concatenate([np.zeros(len(df0)), np.ones(len(df1))])\n",
    "X = pd.concat([df0, df1]).values"
   ]
  },
  {
   "cell_type": "markdown",
   "metadata": {},
   "source": [
    "Hier einmal die beiden Verteilungen abgebildet."
   ]
  },
  {
   "cell_type": "code",
   "execution_count": 3,
   "metadata": {},
   "outputs": [
    {
     "data": {
      "image/png": "[encoded data removed]",
      "text/plain": [
       "<Figure size 432x288 with 1 Axes>"
      ]
     },
     "metadata": {
      "needs_background": "light"
     },
     "output_type": "display_data"
    }
   ],
   "source": [
    "plt.scatter(X[:9999,0], X[:9999,1], label=\"Klasse 0\")\n",
    "plt.scatter(X[10000:,0], X[10000:,1], label=\" Klasse 1\")\n",
    "plt.legend(loc=\"best\")\n",
    "None"
   ]
  },
  {
   "cell_type": "markdown",
   "metadata": {},
   "source": [
    "Nun wird die Anzahl der Klassen, Population 1 oder 2 festgelegt. Außerdem wird die learning rate, hier mit step_size bezeichnet beschrieben, festgelegt und die Matrix W und der Bias Vektor b werden initialisiert. "
   ]
  },
  {
   "cell_type": "code",
   "execution_count": 4,
   "metadata": {},
   "outputs": [],
   "source": [
    "#learning rate h= 0.5, 100 Epochen, 2 Klassen K (1 oder 0), p (x und y)\n",
    "K = 2\n",
    "p = 2\n",
    "step_size = 0.5\n",
    "#initialise W and b \n",
    "np.random.seed(45)\n",
    "W = np.random.normal(size=(p, K)) \n",
    "b = np.random.normal(size=(p,1))"
   ]
  },
  {
   "cell_type": "markdown",
   "metadata": {},
   "source": [
    "Hier passieren mehrere Dinge. Ich werde dies im Code beschreiben. "
   ]
  },
  {
   "cell_type": "code",
   "execution_count": 5,
   "metadata": {},
   "outputs": [],
   "source": [
    "def softmax(f, k): # Softmax Funktion wie beschrieben initialisiert. Es wird ein Vektor erzeugt, dessen einzelne Werte jeweils den Wert e hoch f(i) entsprechen, geteilt durch denselbigen Wert plus den Wert e hoch f(i) der jeweils anderen Klasse. Mit k wird die jeweilige Klasse beschrieben, aus der der jeweilige Datenpunkt kommt. \n",
    "    q = np.exp(f[:,k]).T/(np.exp(f[:,0])+np.exp(f[:,1]))\n",
    "    return q.T\n",
    "\n",
    "def indicator(y, k): # Indikatorfunktion. Ist quasi delta(y(i),k) wobei k der Klasse entspricht und y(i) den jeweiligen Samples unserer Werte. Es wird ein \"True\" zurückgegeben, falls diese Bedingung erfüllt ist und ein \"False\", falls nicht, was in einer Rechnung wie dieser hier einer 1 bzw. 0 entspricht.\n",
    "    return y == k\n",
    "\n",
    "\n",
    "def iteration(W, b, X, y, step_size, num):\n",
    "    f = ((X@W).T + b).T # Bestimmen der f Werte, also unserer Ergebnisse nach anwenden des Neurons auf unsere Eingangsdaten.\n",
    "    W_new1, b_new1, f_new1 = W, b, f # neue Variablen für die for-Schleife\n",
    "    \n",
    "    for i in range(num): #num ist die Anzahl der gewünschten Durchläufe\n",
    "        grad_WC = np.array([[(softmax(f_new1, 0)- indicator(y, 0)).T @ X[:,0], #Dies ist eigentlich der spannendste Schritt. Der Gradient W zu C wird gebildet, also die Matrix, die später als Produkt mit der learning_rate zur aktuellen W-Matrix hinzugefügt wird. Dafür haben wir die einzelnen Komponenten berechnet.  \n",
    "                             (softmax(f_new1, 0)- indicator(y, 0)).T @ X[:,1]], # In den jeweiligen Ecken der Matrix wird (softmax(f,i) -indicator(i) für alle i, also hier 20000 Elemente berechnet) und anschließend mit den dazugehörigen x-Werten multipliziert. \n",
    "                            [(softmax(f_new1, 1)- indicator(y, 1)).T @ X[:,0], # Dies wird für alle vier Ecken wiederholt.\n",
    "                             (softmax(f_new1, 1)- indicator(y, 1)).T @ X[:,1]]])/len(X[:,1]) # Am Ende wird durch die Anzahl aller Elemente geteilt, wegen des 1/m in der Formel im Skript.\n",
    "        grad_bC = np.array([[np.mean((softmax(f_new1,0)- indicator(y,0)).T)], # Hier wird auch nach der Formel aus 2c) der Gradient b C berechnet. \n",
    "                            [np.mean((softmax(f_new1,1)- indicator(y,1)).T)]])\n",
    "        W_new2 = W_new1 - step_size*grad_WC # Parameterupdate für W\n",
    "        b_new2 = b_new1 - step_size*grad_bC # Parameterupdate für b\n",
    "        f_new1 = ((X@W_new2).T + b_new2).T # Parameterupdate für f\n",
    "        W_new1 = W_new2\n",
    "        b_new1 = b_new2\n",
    "        print(f_new1[1])\n",
    "    return W_new1, b_new1, f_new1"
   ]
  },
  {
   "cell_type": "code",
   "execution_count": 6,
   "metadata": {},
   "outputs": [
    {
     "name": "stdout",
     "output_type": "stream",
     "text": [
      "[-1.05011189 -5.23430634]\n",
      "[-1.23341262 -6.31620182]\n",
      "[-1.56745737 -7.27633459]\n",
      "[-1.96316306 -8.16093666]\n",
      "[-2.39093081 -8.99265956]\n",
      "[-2.83753416 -9.78469505]\n",
      "[ -3.2960539  -10.54554761]\n",
      "[ -3.76248982 -11.28108643]\n",
      "[ -4.23436285 -11.99556602]\n",
      "[ -4.71005593 -12.69218749]\n",
      "[ -5.18847218 -13.37343088]\n",
      "[ -5.66884425 -14.04126355]\n",
      "[ -6.15062191 -14.69727683]\n",
      "[ -6.63340259 -15.34277919]\n",
      "[ -7.11688689 -15.97886158]\n",
      "[ -7.60084907 -16.60644463]\n",
      "[ -8.08511707 -17.22631342]\n",
      "[ -8.56955854 -17.83914368]\n",
      "[ -9.054071   -18.44552173]\n",
      "[ -9.53857463 -19.04596015]\n",
      "[-10.02300707 -19.64090991]\n",
      "[-10.50731951 -20.23077023]\n",
      "[-10.99147375 -20.81589637]\n",
      "[-11.47543993 -21.39660606]\n",
      "[-11.95919488 -21.97318476]\n",
      "[-12.44272067 -22.54589001]\n",
      "[-12.92600368 -23.11495502]\n",
      "[-13.4090337  -23.68059176]\n",
      "[-13.89180327 -24.24299352]\n",
      "[-14.3743072 -24.8023371]\n"
     ]
    }
   ],
   "source": [
    "W_new, b_new, f_new = iteration(W, b, X, y, step_size, 30)"
   ]
  },
  {
   "cell_type": "markdown",
   "metadata": {},
   "source": [
    "Leider gibt es ein Problem, dessen Ursache wir ärgerlicher Weise nicht gefunden haben.\n",
    "\n",
    "Die Normierung scheint aus irgendeinem Grund nicht zu funktionieren. Langes Durchlaufen und Beobachten der f Werte hat ergeben, dass die Werte, anstatt gegen Werte zwischen 1 und 0 zu laufen, aus irgendeinem Grund divergieren und je nach Durchlauf immer weiter gegen undendlich gehen, bis sie irgendwann bei -400 sind und dann die softmax Funktion nur noch nan's rausgibt. \n",
    "\n",
    "Auffällig ist außerdem, dass die W Matrix für hohe Durchläufe gegen folgendes Muster konvergiert. \n",
    "\n",
    " (a,  b // -a, -b )\n",
    "\n",
    "Dies könnte mit den divergierenden Werten zusammenhängen, aber vielleicht auch nicht? Keine Ahnung. Wir haben Stunden damit verbracht, weil wir sicher waren, dass der Lösungsweg eigentlich nicht falsch ist, konnten aber den Fehler, den wir irgendwo machen, leider nicht lokalisieren.\n",
    "\n",
    "Wir haben die restlichen Schritte versucht trotzdem nachzuvollziehen und trotz unserer falschen Daten durchzuführen."
   ]
  },
  {
   "cell_type": "code",
   "execution_count": 11,
   "metadata": {},
   "outputs": [
    {
     "name": "stdout",
     "output_type": "stream",
     "text": [
      "[[ 2.40255226  4.27431468]\n",
      " [-2.77132303 -4.21829389]]\n"
     ]
    }
   ],
   "source": [
    "print(W_new)"
   ]
  },
  {
   "cell_type": "markdown",
   "metadata": {},
   "source": [
    "$f_0$ = $f_1$ gilt, da die dies genau die Punkte auf der Gerade beschreibt, die zwischen Klasse $0$ und Klasse $1$ liegen und somit alle anderen Werte perfekt trennen. Diese Bedingung konnte dann benutzt werden um die Geradengleichung aufzustellen, wenn man \n",
    "\n",
    "(x, y) * W + b = (0.5, 0.5) \n",
    "\n",
    "nach y umgestellt hat und dann x einsetzt."
   ]
  },
  {
   "cell_type": "code",
   "execution_count": 8,
   "metadata": {},
   "outputs": [],
   "source": [
    "x_gerade = np.linspace(-20,20,2000) #Erzeugen der x Werte und anschließendes Erzeugen der Gerade \n",
    "y_gerade = -(W_new[:,1].T@W_new[:,0]).T *x_gerade +W_new[:,1].T@(np.array([0.5,0.5])-b_new[:,0])"
   ]
  },
  {
   "cell_type": "code",
   "execution_count": 9,
   "metadata": {},
   "outputs": [
    {
     "data": {
      "image/png": "[encoded data removed]",
      "text/plain": [
       "<Figure size 432x288 with 1 Axes>"
      ]
     },
     "metadata": {
      "needs_background": "light"
     },
     "output_type": "display_data"
    }
   ],
   "source": [
    "plt.scatter(X[:9999,0], X[:9999,1], label=\"Klasse 0\") \n",
    "plt.scatter(X[10000:,0], X[10000:,1], label=\"Klasse 1\")\n",
    "#plt.plot(x_gerade, y_gerade, label=\"Gerade\")\n",
    "plt.legend(loc=\"best\")\n",
    "None"
   ]
  },
  {
   "cell_type": "markdown",
   "metadata": {},
   "source": [
    "Wie man sieht, werden die Werte halbwegs richtig getrennt, aber leider nicht gut genug, was an den Fehlern in unserer Schleife liegt."
   ]
  },
  {
   "cell_type": "code",
   "execution_count": 10,
   "metadata": {},
   "outputs": [
    {
     "data": {
      "image/png": "[encoded data removed]",
      "text/plain": [
       "<Figure size 432x288 with 1 Axes>"
      ]
     },
     "metadata": {
      "needs_background": "light"
     },
     "output_type": "display_data"
    }
   ],
   "source": [
    "x1 = X[:,0]\n",
    "x2 = X[:,1]\n",
    "plt.scatter(x1[f_new[:,0]<0.5], x2[f_new[:,0]<0.5], label=\"Klasse 0\")\n",
    "plt.scatter(x1[f_new[:,0]>=0.5], x2[f_new[:,0]>=0.5], label=\"Klasse 1\") \n",
    "#plt.plot(x_gerade, y_gerade, label=\"Gerade\")\n",
    "plt.legend(loc=\"best\")\n",
    "None"
   ]
  }
 ],
 "metadata": {
  "kernelspec": {
   "display_name": "Python 3",
   "language": "python",
   "name": "python3"
  },
  "language_info": {
   "codemirror_mode": {
    "name": "ipython",
    "version": 3
   },
   "file_extension": ".py",
   "mimetype": "text/x-python",
   "name": "python",
   "nbconvert_exporter": "python",
   "pygments_lexer": "ipython3",
   "version": "3.7.4"
  }
 },
 "nbformat": 4,
 "nbformat_minor": 2
}
