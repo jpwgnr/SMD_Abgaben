{
 "cells": [
  {
   "cell_type": "markdown",
   "metadata": {},
   "source": [
    "## Aufgabe 5 \n",
    "\n",
    "### (a) \n",
    "\n",
    "Es wird ein Algorithmus zur Transformation einer Gleichverteilung im Bereich 0 bis 1 auf den Bereich $x_\\text{min}$ bis $x_\\text{max}$ beschrieben. "
   ]
  },
  {
   "cell_type": "code",
   "execution_count": 12,
   "metadata": {},
   "outputs": [
    {
     "name": "stdout",
     "output_type": "stream",
     "text": [
      "[0.47949032 0.0036253  0.54069635 0.0070648  0.88873741 0.17343057\n",
      " 0.01953651 0.74367316 0.85026464 0.81970567]\n"
     ]
    }
   ],
   "source": [
    "import numpy as np \n",
    "\n",
    "generator = np.random.uniform(0,1,10)\n",
    "print(generator)"
   ]
  },
  {
   "cell_type": "code",
   "execution_count": 13,
   "metadata": {},
   "outputs": [],
   "source": [
    "def gleichgrenzen(xmin, xmax):\n",
    "    dx = xmax - xmin\n",
    "    return np.array(dx* generator + xmin)"
   ]
  },
  {
   "cell_type": "code",
   "execution_count": 16,
   "metadata": {},
   "outputs": [
    {
     "name": "stdout",
     "output_type": "stream",
     "text": [
      "[11.15133551  3.06163012 12.19183794  3.12010162 18.10853601  5.94831967\n",
      "  3.33212065 15.64244374 17.45449894 16.93499634]\n"
     ]
    }
   ],
   "source": [
    "#test \n",
    "a0 = gleichgrenzen(3,20)\n",
    "print(a0)"
   ]
  },
  {
   "cell_type": "markdown",
   "metadata": {},
   "source": [
    "## Aufgabe 6 \n",
    "\n",
    "### (a) \n",
    "Es soll ein Zufallszahlengenerator nach dem vorgegebenen Schema programmiert werden. Dabei sollen $b=3$ und $m = 1024$ gesetzt werden. \n",
    "Die Periodenlänge soll in Abhängigkeit von $a$ in einem angemessenen Bereich verwendet werden. \n",
    "Der Zusammenhang wird in einem Plot dargestellt. \n"
   ]
  },
  {
   "cell_type": "code",
   "execution_count": 9,
   "metadata": {},
   "outputs": [],
   "source": [
    "def lgc(n, a):\n",
    "    x = np.array([0])\n",
    "    for i in range(n):\n",
    "        x = np.append(x, (a*x[i]+3)%1024) \n",
    "    return x     "
   ]
  },
  {
   "cell_type": "code",
   "execution_count": 10,
   "metadata": {},
   "outputs": [
    {
     "name": "stdout",
     "output_type": "stream",
     "text": [
      "[   0    3   12   39  120  363   68  207  624  851  508  503  488  443\n",
      "  308  927  736  163  492  455  344   11   36  111  336 1011]\n"
     ]
    }
   ],
   "source": [
    "# Test\n",
    "a = lgc(25, 3)\n",
    "print(a)"
   ]
  }
 ],
 "metadata": {
  "kernelspec": {
   "display_name": "Python 3",
   "language": "python",
   "name": "python3"
  },
  "language_info": {
   "codemirror_mode": {
    "name": "ipython",
    "version": 3
   },
   "file_extension": ".py",
   "mimetype": "text/x-python",
   "name": "python",
   "nbconvert_exporter": "python",
   "pygments_lexer": "ipython3",
   "version": "3.6.5"
  }
 },
 "nbformat": 4,
 "nbformat_minor": 2
}
