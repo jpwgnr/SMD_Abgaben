{
 "cells": [
  {
   "cell_type": "markdown",
   "metadata": {},
   "source": [
    "## Aufgabe 5 \n",
    "\n",
    "### (a) \n",
    "\n",
    "Es wird ein Algorithmus zur Transformation einer Gleichverteilung im Bereich 0 bis 1 auf den Bereich $x_\\text{min}$ bis $x_\\text{max}$ beschrieben. "
   ]
  },
  {
   "cell_type": "code",
   "execution_count": 8,
   "metadata": {},
   "outputs": [
    {
     "name": "stdout",
     "output_type": "stream",
     "text": [
      "[0.25813916 0.40214096 0.04888748 0.74635011 0.68694602 0.01733164\n",
      " 0.98972938 0.68941041 0.39616342 0.15271974]\n"
     ]
    }
   ],
   "source": [
    "import numpy as np \n",
    "import matplotlib.pyplot as plt\n",
    "\n",
    "generator = np.random.uniform(0,1,10)\n",
    "print(generator)"
   ]
  },
  {
   "cell_type": "code",
   "execution_count": 9,
   "metadata": {},
   "outputs": [],
   "source": [
    "def gleichgrenzen(xmin, xmax):\n",
    "    dx = xmax - xmin\n",
    "    return np.array(dx* generator + xmin)"
   ]
  },
  {
   "cell_type": "code",
   "execution_count": 10,
   "metadata": {},
   "outputs": [
    {
     "name": "stdout",
     "output_type": "stream",
     "text": [
      "[ 7.38836566  9.83639625  3.83108716 15.68795193 14.6780823   3.2946378\n",
      " 19.82539941 14.71997701  9.73477806  5.59623562]\n"
     ]
    }
   ],
   "source": [
    "#test \n",
    "a0 = gleichgrenzen(3,20)\n",
    "print(a0)"
   ]
  },
  {
   "cell_type": "markdown",
   "metadata": {},
   "source": [
    "## Aufgabe 6 \n",
    "\n",
    "### (a) \n",
    "Es soll ein Zufallszahlengenerator nach dem vorgegebenen Schema programmiert werden. Dabei sollen $b=3$ und $m = 1024$ gesetzt werden. \n",
    "Die Periodenlänge soll in Abhängigkeit von $a$ in einem angemessenen Bereich verwendet werden. \n",
    "Der Zusammenhang wird in einem Plot dargestellt. \n"
   ]
  },
  {
   "cell_type": "code",
   "execution_count": 11,
   "metadata": {},
   "outputs": [],
   "source": [
    "def lgc(n, a):\n",
    "    x = np.array([0])\n",
    "    for i in range(n):\n",
    "        x = np.append(x, (a*x[i]+3)%1024) \n",
    "    return x     "
   ]
  },
  {
   "cell_type": "code",
   "execution_count": 12,
   "metadata": {},
   "outputs": [],
   "source": [
    "# Test\n",
    "def testfunc(a, max):\n",
    "    anzahl = np.array([2])\n",
    "    for i in range(1, a):\n",
    "        for j in range(2, max):\n",
    "            if lgc(j, i)[-1] == lgc(j, i)[-2]:\n",
    "                anzahl = np.append(anzahl, j)\n",
    "                break\n",
    "            elif (j == max -1):\n",
    "                anzahl = np.append(anzahl, j)\n",
    "    return anzahl\n"
   ]
  },
  {
   "cell_type": "code",
   "execution_count": 18,
   "metadata": {},
   "outputs": [
    {
     "data": {
      "image/png": "[encoded data removed]",
      "text/plain": [
       "<Figure size 432x288 with 1 Axes>"
      ]
     },
     "metadata": {},
     "output_type": "display_data"
    }
   ],
   "source": [
    "b = 30\n",
    "y = testfunc(b, 40)\n",
    "a = np.arange(0, b)\n",
    "\n",
    "plt.figure(1)\n",
    "plt.plot(a, y, \"rx\")\n",
    "None"
   ]
  }
 ],
 "metadata": {
  "kernelspec": {
   "display_name": "Python 3",
   "language": "python",
   "name": "python3"
  },
  "language_info": {
   "codemirror_mode": {
    "name": "ipython",
    "version": 3
   },
   "file_extension": ".py",
   "mimetype": "text/x-python",
   "name": "python",
   "nbconvert_exporter": "python",
   "pygments_lexer": "ipython3",
   "version": "3.6.5"
  }
 },
 "nbformat": 4,
 "nbformat_minor": 2
}
