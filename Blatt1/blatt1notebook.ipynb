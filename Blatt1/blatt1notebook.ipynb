{
 "cells": [
  {
   "cell_type": "markdown",
   "metadata": {},
   "source": [
    "# Blatt 1 \n",
    "\n",
    "## Aufgabe 1a) und b) \n",
    "\n",
    "Es werden zwei Funktionen empirisch untersucht. Dabei soll festgestellt werden, für welche Bereiche von $x$ das numerische Ergebnis vom algebraischen um nicht mehr als 1% abweicht und in welchen Bereichen das Ergebnis gleich null ist. "
   ]
  },
  {
   "cell_type": "code",
   "execution_count": 6,
   "metadata": {},
   "outputs": [],
   "source": [
    "import numpy as np \n",
    "import matplotlib.pyplot as plt "
   ]
  },
  {
   "cell_type": "code",
   "execution_count": 7,
   "metadata": {},
   "outputs": [],
   "source": [
    "def f(x):\n",
    "    return (x**3 + 1/3) - (x**3 - 1/3)"
   ]
  },
  {
   "cell_type": "code",
   "execution_count": 35,
   "metadata": {},
   "outputs": [],
   "source": [
    "def g(x):\n",
    "    return ((3+(x**3)/3) - (3 - (x**3)/3))/x**3"
   ]
  },
  {
   "cell_type": "code",
   "execution_count": 55,
   "metadata": {},
   "outputs": [],
   "source": [
    "def makeplot(func, fig):\n",
    "    x= np.linspace(1, 1e6, 1e6)\n",
    "    y= func(x)\n",
    "    y0= 2/3* np.ones(len(x)) #\"exakter Wert\" 2/3\n",
    "    x1= x[(y==2/3)] #numerische Werte mit 0 Abweichung\n",
    "    x2= x[(y>((2/3)+0.01)) | (y<(2/3 - 0.01))] #numerische Abweichung unter einem Prozent\n",
    "    x3= x[(y<((2/3)+0.01)) | (y>(2/3 - 0.01))] #numerische Abweichung über einem Prozent\n",
    "    plt.figure(fig)\n",
    "    plt.xscale(\"log\")\n",
    "    plt.plot(x, y0, \"b\", label=\"Tatsächlicher Wert\")\n",
    "    plt.plot(x1, func(x1), \"k.\", label=\"Numerische Abweichung von 0\")\n",
    "    plt.plot(x2, func(x2), \"g.\", label=\"Abweichung größer als 1%\", linestyle=\"None\")\n",
    "    plt.plot(x3, func(x3), \"r.\", label=\"Abweichung weniger als 1%\", linestyle=\"None\")\n",
    "    plt.legend()"
   ]
  },
  {
   "cell_type": "code",
   "execution_count": 56,
   "metadata": {},
   "outputs": [
    {
     "name": "stderr",
     "output_type": "stream",
     "text": [
      "/home/lewis206/anaconda3/lib/python3.6/site-packages/ipykernel_launcher.py:2: DeprecationWarning: object of type <class 'float'> cannot be safely interpreted as an integer.\n",
      "  \n"
     ]
    },
    {
     "data": {
      "image/png": "[encoded data removed]",
      "text/plain": [
       "<Figure size 432x288 with 1 Axes>"
      ]
     },
     "metadata": {},
     "output_type": "display_data"
    },
    {
     "data": {
      "image/png": "[encoded data removed]",
      "text/plain": [
       "<Figure size 432x288 with 1 Axes>"
      ]
     },
     "metadata": {},
     "output_type": "display_data"
    }
   ],
   "source": [
    "makeplot(f, 1)\n",
    "makeplot(g, 2)"
   ]
  },
  {
   "cell_type": "markdown",
   "metadata": {},
   "source": [
    "## c) \n",
    "\n",
    "Das Ergebnis soll in geeigneter Form graphisch dargestellt werden mittels einer logarithmischen x-Skala. "
   ]
  },
  {
   "cell_type": "code",
   "execution_count": null,
   "metadata": {},
   "outputs": [],
   "source": []
  },
  {
   "cell_type": "markdown",
   "metadata": {},
   "source": [
    "## Aufgabe 2a)\n",
    "\n",
    "Es ist ein Term des differektiellen Wirkungsquerschnitts für die Reaktion $\\text{e}^{-}\\text{e}^{+} \\to \\gamma\\gamma$ gegeben und es soll bestimmt werden, ob dieser numerisch stabil ist. Außerdem soll der Bereich von $\\theta$ bestimmt werden, in dem die Gleichung für $\\text{E}_\\text{e} = 50\\, \\text{GeV}$ numerisch instabil ist. "
   ]
  },
  {
   "cell_type": "code",
   "execution_count": null,
   "metadata": {},
   "outputs": [],
   "source": []
  },
  {
   "cell_type": "markdown",
   "metadata": {},
   "source": [
    "## b) \n",
    "Das Stabilitätsproblem soll durch eine geeignete analytische Umformung gelöst werden. "
   ]
  },
  {
   "cell_type": "code",
   "execution_count": null,
   "metadata": {},
   "outputs": [],
   "source": []
  },
  {
   "cell_type": "markdown",
   "metadata": {},
   "source": [
    "## c) \n",
    "\n",
    "Es soll gezeigt werden, dass die Stabilitätsprobleme behoben wurden, indem die Gleichungen in den kritischen Intervallen graphisch dargestellt werden.  "
   ]
  },
  {
   "cell_type": "code",
   "execution_count": null,
   "metadata": {},
   "outputs": [],
   "source": []
  },
  {
   "cell_type": "markdown",
   "metadata": {},
   "source": [
    "## d) \n",
    "\n",
    "Die Konditionszahl soll berechnet werden und es soll erklärt werden, wie diese von $\\theta$ abhängt. "
   ]
  },
  {
   "cell_type": "code",
   "execution_count": null,
   "metadata": {},
   "outputs": [],
   "source": []
  },
  {
   "cell_type": "markdown",
   "metadata": {},
   "source": [
    "## e) \n",
    "\n",
    "Der Verlauf der Konditionszahl soll als Funktion von $\\theta$ im Intervall $(0 \\leq \\theta \\geq )$ graphisch dargestellt werden. Außerdem soll erklärt werden, in welchem Bereich das Problem gut und in welchem schlecht konditioniert ist. "
   ]
  },
  {
   "cell_type": "code",
   "execution_count": null,
   "metadata": {},
   "outputs": [],
   "source": []
  }
 ],
 "metadata": {
  "kernelspec": {
   "display_name": "Python 3",
   "language": "python",
   "name": "python3"
  },
  "language_info": {
   "codemirror_mode": {
    "name": "ipython",
    "version": 3
   },
   "file_extension": ".py",
   "mimetype": "text/x-python",
   "name": "python",
   "nbconvert_exporter": "python",
   "pygments_lexer": "ipython3",
   "version": "3.6.5"
  }
 },
 "nbformat": 4,
 "nbformat_minor": 2
}
