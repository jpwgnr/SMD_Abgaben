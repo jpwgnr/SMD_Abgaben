{
 "cells": [
  {
   "cell_type": "code",
   "execution_count": 33,
   "metadata": {},
   "outputs": [],
   "source": [
    "import numpy as np \n",
    "import matplotlib as plt"
   ]
  },
  {
   "cell_type": "markdown",
   "metadata": {},
   "source": [
    "## Aufgabe 29 "
   ]
  },
  {
   "cell_type": "code",
   "execution_count": 48,
   "metadata": {},
   "outputs": [],
   "source": [
    "L1 = np.array([0.13, 1.5, 0.5])\n",
    "L2 = np.array([2.0, 0.5, 0.05])\n",
    "L3 = np.array([0.07, 0.5, 1.3])\n",
    "\n",
    "p1 = 0.8\n",
    "p2 = 0.1\n",
    "p3 = 0.1"
   ]
  },
  {
   "cell_type": "markdown",
   "metadata": {},
   "source": [
    "Durch Bayes ergibt sich $$ P' = P_0 \\cdot \\frac{LR}{(1 - P_0 + P_0\\cdot LR)}. $$\n",
    "\n",
    "Also müssen wir noch die Ratios bestimmen. Wir betrachten hier die positive ratios. \n",
    "Wir gehen davon aus, dass gilt: \n",
    "\n",
    "\n",
    "Die Ratios müssen wir dann aber noch normieren. \n",
    "Also summieren wir alle zusammen und "
   ]
  },
  {
   "cell_type": "code",
   "execution_count": 47,
   "metadata": {},
   "outputs": [],
   "source": [
    "def func(p, ratio):\n",
    "    return p*ratio/(1-p+p*ratio)"
   ]
  },
  {
   "cell_type": "code",
   "execution_count": 56,
   "metadata": {},
   "outputs": [
    {
     "name": "stdout",
     "output_type": "stream",
     "text": [
      "a) Wahrscheinlichkeit, dass... \n",
      "ein Pion erscheint: 2e+01%\n",
      "ein Kaon erscheint: 7.3%\n",
      "ein Proton erscheint: 2.5%.\n",
      "a) Wahrscheinlichkeit, dass... \n",
      "ein Pion erscheint: 7.6e+01%\n",
      "ein Kaon erscheint: 2.1%\n",
      "ein Proton erscheint: 0.22%.\n",
      "a) Wahrscheinlichkeit, dass... \n",
      "ein Pion erscheint: 1.3e+01%\n",
      "ein Kaon erscheint: 2.9%\n",
      "ein Proton erscheint: 7.2%.\n"
     ]
    }
   ],
   "source": [
    "ratio11 = L1[0]/L1.sum()\n",
    "P11 = func(p1, ratio11)*100\n",
    "ratio12 = L1[1]/L1.sum()\n",
    "P12 = func(p2, ratio12)*100\n",
    "ratio13 = L1[2]/L1.sum()\n",
    "P13 = func(p3, ratio13)*100\n",
    "\n",
    "ratio21 = L2[0]/L2.sum()\n",
    "P21 = func(p1, ratio21)*100\n",
    "ratio22 = L2[1]/L2.sum()\n",
    "P22 = func(p2, ratio22)*100\n",
    "ratio23 = L2[2]/L2.sum()\n",
    "P23 = func(p3, ratio23)*100\n",
    "\n",
    "ratio31 = L3[0]/L3.sum()\n",
    "P31 = func(p1, ratio31)*100\n",
    "ratio32 = L3[1]/L3.sum()\n",
    "P32 = func(p2, ratio32)*100\n",
    "ratio33 = L3[2]/L3.sum()\n",
    "P33 = func(p3, ratio33)*100\n",
    "\n",
    "print(f\"a) Wahrscheinlichkeit, dass... \\nein Pion erscheint: {P11:.2}%\\nein Kaon erscheint: {P12:.2}%\\nein Proton erscheint: {P13:.2}%.\")\n",
    "print(f\"a) Wahrscheinlichkeit, dass... \\nein Pion erscheint: {P21:.2}%\\nein Kaon erscheint: {P22:.2}%\\nein Proton erscheint: {P23:.2}%.\")\n",
    "print(f\"a) Wahrscheinlichkeit, dass... \\nein Pion erscheint: {P31:.2}%\\nein Kaon erscheint: {P32:.2}%\\nein Proton erscheint: {P33:.2}%.\")"
   ]
  },
  {
   "cell_type": "markdown",
   "metadata": {},
   "source": [
    "Also irgendwo ergibt das gar keinen Sinn, glaub ich. Aber ich weiß auch nicht, wie ich es sonst machen soll."
   ]
  },
  {
   "cell_type": "markdown",
   "metadata": {},
   "source": [
    "## Aufgabe 30 \n"
   ]
  },
  {
   "cell_type": "markdown",
   "metadata": {},
   "source": [
    "### a) \n",
    "\n",
    "$$ ln(L) = -F = N_{off} ln(b) + N_{on} ln(s+\\alpha b) - (1+\\alpha) b -s - ln(N_{off}!) - ln(N_{on}!) $$\n",
    "\n",
    "Wir setzen s = 0. \n",
    "\n",
    "$$ ln(L) = N_{off} ln(b) + N_{on} ln(\\alpha b) - (1+\\alpha) b - ln(N_{off}!) - ln(N_{on}!) $$\n",
    "\n",
    "Ableiten und gleich null setzen: \n",
    "\n",
    "$$ \\frac{\\partial ln(L)}{\\partial b} = 0 = \\frac{N_{off}}{b} + \\frac{N_{on}}{b} - (1+\\alpha)$$\n",
    "\n",
    "Daraus folgt: \n",
    "\n",
    "$$ b = \\frac{(N_{off} + N_{on})}{(1-\\alpha)} $$\n",
    "\n",
    "### b) \n",
    "\n",
    "$$ \\lambda = \\frac{\\hat{b_0}}{\\hat{b}} = \\frac{(N_{off} + N_{on})}{(1-\\alpha) \\cdot N_{off}} $$"
   ]
  },
  {
   "cell_type": "markdown",
   "metadata": {},
   "source": [
    "## Aufgabe 32 "
   ]
  },
  {
   "cell_type": "code",
   "execution_count": 34,
   "metadata": {},
   "outputs": [],
   "source": [
    "en_diff= np.array([31.6, 32.2, 31.2, 31.9, 31.3, 30.8, 31.3])\n",
    "err = 0.5\n",
    "hypo1 = 31.3\n",
    "hypo2 = 30.7 "
   ]
  },
  {
   "cell_type": "code",
   "execution_count": 35,
   "metadata": {},
   "outputs": [],
   "source": [
    "chisquare1 = np.sum((hypo1 - en_diff)**2/err**2)\n",
    "chisquare2 = np.sum((hypo2 - en_diff)**2/err**2)"
   ]
  },
  {
   "cell_type": "code",
   "execution_count": 36,
   "metadata": {},
   "outputs": [
    {
     "name": "stdout",
     "output_type": "stream",
     "text": [
      "a):  6.080000000000007\n",
      "b):  21.920000000000073\n"
     ]
    }
   ],
   "source": [
    "print(\"a): \", chisquare1)\n",
    "print(\"b): \", chisquare2)\n"
   ]
  },
  {
   "cell_type": "markdown",
   "metadata": {},
   "source": [
    "Alpha liegt bei 14,067. Insofern wird der Wert bei b) abgelehnt. "
   ]
  }
 ],
 "metadata": {
  "kernelspec": {
   "display_name": "Python 3",
   "language": "python",
   "name": "python3"
  },
  "language_info": {
   "codemirror_mode": {
    "name": "ipython",
    "version": 3
   },
   "file_extension": ".py",
   "mimetype": "text/x-python",
   "name": "python",
   "nbconvert_exporter": "python",
   "pygments_lexer": "ipython3",
   "version": "3.7.4"
  }
 },
 "nbformat": 4,
 "nbformat_minor": 2
}
