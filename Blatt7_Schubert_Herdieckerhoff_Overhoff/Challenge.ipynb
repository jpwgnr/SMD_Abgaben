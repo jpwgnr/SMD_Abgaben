{
 "cells": [
  {
   "cell_type": "markdown",
   "metadata": {},
   "source": [
    "# Data-Mining Challenge "
   ]
  },
  {
   "cell_type": "markdown",
   "metadata": {},
   "source": [
    "Im ersten Teil haben wir erstmal alles gelassen wie zuvor, damit wir den Vergleich zu unserer Abgabe hatten und sehen konnten, ob sich unsere Werte verbesserten.\n",
    "Dabei haben wir primär an der Feature Selection gearbeitet und haben verschiedene Varianten ausprobiert, die wir dann auskommentiert haben und sind im Endeffekt beim ExtraTreesClassifier gelandet. Dieser hat unsere Werte deutlich verbessert. \n",
    "Anschließend haben wir im zweiten Teil haben wir dann unsere Verbesserungen genutzt, um unseren Random Forest mit den besten Features zu trainieren und anschließend die Test Daten zur Analyse genutzt."
   ]
  },
  {
   "cell_type": "markdown",
   "metadata": {},
   "source": [
    "## 1)"
   ]
  },
  {
   "cell_type": "code",
   "execution_count": 1,
   "metadata": {},
   "outputs": [],
   "source": [
    "import pandas as pd\n",
    "import numpy as np \n",
    "import matplotlib.pyplot as plt\n",
    "from sklearn.model_selection import train_test_split\n",
    "from sklearn.decomposition import PCA\n",
    "from sklearn.ensemble import RandomForestClassifier\n",
    "from sklearn.metrics import roc_curve, roc_auc_score, make_scorer\n",
    "from sklearn.model_selection import cross_validate\n",
    "import pymrmr \n",
    "from sklearn.feature_selection import RFE\n",
    "from sklearn.linear_model import LogisticRegression\n",
    "from sklearn.ensemble import ExtraTreesClassifier"
   ]
  },
  {
   "cell_type": "code",
   "execution_count": 2,
   "metadata": {},
   "outputs": [],
   "source": [
    "params = pd.read_hdf(\"./image_parameters_smd_train.hdf5\")"
   ]
  },
  {
   "cell_type": "code",
   "execution_count": 3,
   "metadata": {},
   "outputs": [],
   "source": [
    "y = np.concatenate([np.ones(len(params[params.corsika_run_header_particle_id==1])), np.zeros(len(params[params.corsika_run_header_particle_id==14]))])\n",
    "forbidden_columns = 'ceres_|mc_|corsika_|run_|source_position_|pointing_|aux_|event_num|incident_angle'\n",
    "\n",
    "X = params.filter(regex=f'^(?!{forbidden_columns}).*$')"
   ]
  },
  {
   "cell_type": "code",
   "execution_count": 4,
   "metadata": {},
   "outputs": [],
   "source": [
    "#mRMR\n",
    "#index = pymrmr.mRMR(X, \"MIQ\", 5)\n",
    "#index = X.drop(index, axis=1).keys()\n",
    "#X = X[X.columns.difference(index)]\n",
    "#X.head()"
   ]
  },
  {
   "cell_type": "code",
   "execution_count": 5,
   "metadata": {},
   "outputs": [],
   "source": [
    "#RFE\n",
    "#model = LogisticRegression(solver=\"lbfgs\")\n",
    "#rfe = RFE(model, 5)\n",
    "#fit = rfe.fit(X, y)\n",
    "#index = fit.support_\n",
    "#index = X.drop(X.keys()[index == True], axis=1).keys()\n",
    "#X = X[X.columns.difference(index)]\n",
    "#X.head()"
   ]
  },
  {
   "cell_type": "code",
   "execution_count": 6,
   "metadata": {},
   "outputs": [
    {
     "name": "stdout",
     "output_type": "stream",
     "text": [
      "[ 5 13  1 14  4 12 10  9  2 11  6 16]\n",
      "Die neuen Features sind Index(['concentration_cog', 'concentration_two_pixel', 'length',\n",
      "       'photoncharge_shower_mean', 'width'],\n",
      "      dtype='object').\n"
     ]
    }
   ],
   "source": [
    "#Feature Importance \n",
    "model = ExtraTreesClassifier(n_estimators=100)\n",
    "model.fit(X, y)\n",
    "index = np.argpartition(model.feature_importances_, -5)[:-5]\n",
    "print(index)\n",
    "X = X[X.columns.difference(X.keys()[index])]\n",
    "print(f\"Die neuen Features sind {X.keys()}.\")"
   ]
  },
  {
   "cell_type": "code",
   "execution_count": 7,
   "metadata": {},
   "outputs": [],
   "source": [
    "X_test, X_train, y_test, y_train = train_test_split(X, y, test_size=0.2)"
   ]
  },
  {
   "cell_type": "code",
   "execution_count": 8,
   "metadata": {},
   "outputs": [
    {
     "name": "stdout",
     "output_type": "stream",
     "text": [
      "ROC AUC Random Forest n=1   0.594 +/- 0.011\n",
      "ROC AUC Random Forest n=10  0.635 +/- 0.009\n",
      "ROC AUC Random Forest n=100 0.644 +/- 0.006\n",
      "ROC AUC Random Forest n=150 0.641 +/- 0.007\n"
     ]
    }
   ],
   "source": [
    "np.random.seed(12)\n",
    "rf1 = RandomForestClassifier(n_estimators=1, min_samples_leaf=5, n_jobs=-1)\n",
    "rf10 = RandomForestClassifier(n_estimators=10, min_samples_leaf=5, n_jobs=-1)\n",
    "rf100 = RandomForestClassifier(n_estimators=100, min_samples_leaf=5, n_jobs=-1)\n",
    "rfx = RandomForestClassifier(n_estimators=150, min_samples_leaf=7, n_jobs=-1)\n",
    "\n",
    "score = cross_validate(rf1, X_train, y_train, scoring=make_scorer(roc_auc_score), cv=5)\n",
    "print('ROC AUC Random Forest n=1   {:0.3f} +/- {:0.3f}'.format(score['test_score'].mean(), score['test_score'].std()))\n",
    "score = cross_validate(rf10, X_train, y_train, scoring=make_scorer(roc_auc_score), cv=5)\n",
    "print('ROC AUC Random Forest n=10  {:0.3f} +/- {:0.3f}'.format(score['test_score'].mean(), score['test_score'].std()))\n",
    "score = cross_validate(rf100, X_train, y_train, scoring=make_scorer(roc_auc_score), cv=5)\n",
    "print('ROC AUC Random Forest n=100 {:0.3f} +/- {:0.3f}'.format(score['test_score'].mean(), score['test_score'].std()))\n",
    "score = cross_validate(rfx, X_train, y_train, scoring=make_scorer(roc_auc_score), cv=5)\n",
    "print('ROC AUC Random Forest n=150 {:0.3f} +/- {:0.3f}'.format(score['test_score'].mean(), score['test_score'].std()))"
   ]
  },
  {
   "cell_type": "code",
   "execution_count": 9,
   "metadata": {},
   "outputs": [],
   "source": [
    "rfx.fit(X_train, y_train)\n",
    "y_prediction_proba = rfx.predict_proba(X_test)"
   ]
  },
  {
   "cell_type": "code",
   "execution_count": 10,
   "metadata": {},
   "outputs": [
    {
     "data": {
      "image/png": "[encoded data removed]",
      "text/plain": [
       "<Figure size 432x288 with 1 Axes>"
      ]
     },
     "metadata": {
      "needs_background": "light"
     },
     "output_type": "display_data"
    }
   ],
   "source": [
    "auc = roc_auc_score(y_test, y_prediction_proba[:, 1])\n",
    "fpr, tpr, thresholds = roc_curve(y_test, y_prediction_proba[:, 1])\n",
    "plt.scatter(fpr, tpr, c=thresholds)\n",
    "plt.plot(fpr, tpr, '--', color='gray', alpha=0.5)\n",
    "plt.text(0.5, 0.5, f'AuC ROC: {auc:0.03f}')\n",
    "None"
   ]
  },
  {
   "cell_type": "markdown",
   "metadata": {},
   "source": [
    "## 2)"
   ]
  },
  {
   "cell_type": "code",
   "execution_count": 11,
   "metadata": {},
   "outputs": [],
   "source": [
    "#trainingsdata\n",
    "X_train = params.filter(regex=f'^(?!{forbidden_columns}).*$') \n",
    "y_train = np.concatenate([np.ones(len(params[params.corsika_run_header_particle_id==1])), np.zeros(len(params[params.corsika_run_header_particle_id==14]))]) \n",
    "\n",
    "#feature selection\n",
    "model = ExtraTreesClassifier(n_estimators=100)\n",
    "model.fit(X_train, y_train)\n",
    "index = np.argpartition(model.feature_importances_, -5)[:-5]\n",
    "X_train = X_train[X_train.columns.difference(X_train.keys()[index])]\n",
    "\n",
    "#train forest\n",
    "rfx = RandomForestClassifier(n_estimators=150, min_samples_leaf=7, n_jobs=-1)\n",
    "rfx.fit(X_train, y_train)\n",
    "\n",
    "#read test data and select same features as training data\n",
    "X_test = pd.read_hdf(\"./image_parameters_smd_test.hdf5\")\n",
    "X_test = X_test[X_test.columns.difference(X_test.keys()[[1, 2, 3, 4, 5, 6, 9, 10, 11, 12, 13, 14]])]\n",
    "\n",
    "#evalute prediction probability values\n",
    "y_prediction_proba = rfx.predict_proba(X_test)\n",
    "\n",
    "#save them into a file\n",
    "np.savetxt(\"predicted_labels.csv\", y_prediction_proba[:,1], delimiter=\",\")\n"
   ]
  }
 ],
 "metadata": {
  "kernelspec": {
   "display_name": "Python 3",
   "language": "python",
   "name": "python3"
  },
  "language_info": {
   "codemirror_mode": {
    "name": "ipython",
    "version": 3
   },
   "file_extension": ".py",
   "mimetype": "text/x-python",
   "name": "python",
   "nbconvert_exporter": "python",
   "pygments_lexer": "ipython3",
   "version": "3.6.8"
  }
 },
 "nbformat": 4,
 "nbformat_minor": 2
}
