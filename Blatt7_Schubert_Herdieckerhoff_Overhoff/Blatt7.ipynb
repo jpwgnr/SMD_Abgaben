{
 "cells": [
  {
   "cell_type": "code",
   "execution_count": 1,
   "metadata": {},
   "outputs": [],
   "source": [
    "import pandas as pd\n",
    "import numpy as np \n",
    "import matplotlib.pyplot as plt\n",
    "from sklearn.model_selection import train_test_split\n",
    "from sklearn.ensemble import RandomForestClassifier\n",
    "from sklearn.metrics import roc_curve, roc_auc_score, make_scorer\n",
    "from sklearn.model_selection import cross_validate"
   ]
  },
  {
   "cell_type": "code",
   "execution_count": 2,
   "metadata": {},
   "outputs": [],
   "source": [
    "params = pd.read_hdf(\"./image_parameters_smd_train.hdf5\")"
   ]
  },
  {
   "cell_type": "code",
   "execution_count": 3,
   "metadata": {},
   "outputs": [
    {
     "data": {
      "text/html": [
       "<div>\n",
       "<style scoped>\n",
       "    .dataframe tbody tr th:only-of-type {\n",
       "        vertical-align: middle;\n",
       "    }\n",
       "\n",
       "    .dataframe tbody tr th {\n",
       "        vertical-align: top;\n",
       "    }\n",
       "\n",
       "    .dataframe thead th {\n",
       "        text-align: right;\n",
       "    }\n",
       "</style>\n",
       "<table border=\"1\" class=\"dataframe\">\n",
       "  <thead>\n",
       "    <tr style=\"text-align: right;\">\n",
       "      <th></th>\n",
       "      <th>concentration_cog</th>\n",
       "      <th>concentration_core</th>\n",
       "      <th>concentration_one_pixel</th>\n",
       "      <th>concentration_two_pixel</th>\n",
       "      <th>leakage1</th>\n",
       "      <th>leakage2</th>\n",
       "      <th>size</th>\n",
       "      <th>width</th>\n",
       "      <th>length</th>\n",
       "      <th>skewness_long</th>\n",
       "      <th>skewness_trans</th>\n",
       "      <th>kurtosis_long</th>\n",
       "      <th>kurtosis_trans</th>\n",
       "      <th>num_islands</th>\n",
       "      <th>num_pixel_in_shower</th>\n",
       "      <th>photoncharge_shower_mean</th>\n",
       "      <th>photoncharge_shower_variance</th>\n",
       "    </tr>\n",
       "  </thead>\n",
       "  <tbody>\n",
       "    <tr>\n",
       "      <th>1</th>\n",
       "      <td>0.586610</td>\n",
       "      <td>0.455474</td>\n",
       "      <td>0.246464</td>\n",
       "      <td>0.455474</td>\n",
       "      <td>0.0</td>\n",
       "      <td>0.0</td>\n",
       "      <td>36.465064</td>\n",
       "      <td>5.008837</td>\n",
       "      <td>8.355993</td>\n",
       "      <td>0.038369</td>\n",
       "      <td>-0.114003</td>\n",
       "      <td>1.747550</td>\n",
       "      <td>1.689157</td>\n",
       "      <td>1</td>\n",
       "      <td>7</td>\n",
       "      <td>5.209295</td>\n",
       "      <td>4.893394</td>\n",
       "    </tr>\n",
       "    <tr>\n",
       "      <th>2</th>\n",
       "      <td>0.424287</td>\n",
       "      <td>0.424287</td>\n",
       "      <td>0.178021</td>\n",
       "      <td>0.336471</td>\n",
       "      <td>0.0</td>\n",
       "      <td>0.0</td>\n",
       "      <td>63.775773</td>\n",
       "      <td>5.713048</td>\n",
       "      <td>9.323578</td>\n",
       "      <td>-0.034917</td>\n",
       "      <td>0.117764</td>\n",
       "      <td>1.531659</td>\n",
       "      <td>1.728964</td>\n",
       "      <td>1</td>\n",
       "      <td>9</td>\n",
       "      <td>7.086197</td>\n",
       "      <td>7.917912</td>\n",
       "    </tr>\n",
       "    <tr>\n",
       "      <th>5</th>\n",
       "      <td>0.086792</td>\n",
       "      <td>0.464911</td>\n",
       "      <td>0.049563</td>\n",
       "      <td>0.096657</td>\n",
       "      <td>0.0</td>\n",
       "      <td>0.0</td>\n",
       "      <td>2665.858406</td>\n",
       "      <td>9.503945</td>\n",
       "      <td>36.189809</td>\n",
       "      <td>-0.796868</td>\n",
       "      <td>0.164766</td>\n",
       "      <td>3.190828</td>\n",
       "      <td>3.281966</td>\n",
       "      <td>1</td>\n",
       "      <td>100</td>\n",
       "      <td>26.658584</td>\n",
       "      <td>901.313791</td>\n",
       "    </tr>\n",
       "    <tr>\n",
       "      <th>6</th>\n",
       "      <td>0.135448</td>\n",
       "      <td>0.356647</td>\n",
       "      <td>0.098123</td>\n",
       "      <td>0.191281</td>\n",
       "      <td>0.0</td>\n",
       "      <td>0.0</td>\n",
       "      <td>208.178530</td>\n",
       "      <td>7.193686</td>\n",
       "      <td>18.298463</td>\n",
       "      <td>0.591534</td>\n",
       "      <td>0.384114</td>\n",
       "      <td>2.375837</td>\n",
       "      <td>2.546314</td>\n",
       "      <td>1</td>\n",
       "      <td>23</td>\n",
       "      <td>9.051240</td>\n",
       "      <td>28.829864</td>\n",
       "    </tr>\n",
       "    <tr>\n",
       "      <th>7</th>\n",
       "      <td>0.640389</td>\n",
       "      <td>0.378509</td>\n",
       "      <td>0.261880</td>\n",
       "      <td>0.478792</td>\n",
       "      <td>0.0</td>\n",
       "      <td>0.0</td>\n",
       "      <td>26.615000</td>\n",
       "      <td>5.738275</td>\n",
       "      <td>7.390484</td>\n",
       "      <td>0.608018</td>\n",
       "      <td>-0.379429</td>\n",
       "      <td>1.691941</td>\n",
       "      <td>2.031471</td>\n",
       "      <td>1</td>\n",
       "      <td>5</td>\n",
       "      <td>5.323000</td>\n",
       "      <td>1.362421</td>\n",
       "    </tr>\n",
       "  </tbody>\n",
       "</table>\n",
       "</div>"
      ],
      "text/plain": [
       "   concentration_cog  concentration_core  concentration_one_pixel  \\\n",
       "1           0.586610            0.455474                 0.246464   \n",
       "2           0.424287            0.424287                 0.178021   \n",
       "5           0.086792            0.464911                 0.049563   \n",
       "6           0.135448            0.356647                 0.098123   \n",
       "7           0.640389            0.378509                 0.261880   \n",
       "\n",
       "   concentration_two_pixel  leakage1  leakage2         size     width  \\\n",
       "1                 0.455474       0.0       0.0    36.465064  5.008837   \n",
       "2                 0.336471       0.0       0.0    63.775773  5.713048   \n",
       "5                 0.096657       0.0       0.0  2665.858406  9.503945   \n",
       "6                 0.191281       0.0       0.0   208.178530  7.193686   \n",
       "7                 0.478792       0.0       0.0    26.615000  5.738275   \n",
       "\n",
       "      length  skewness_long  skewness_trans  kurtosis_long  kurtosis_trans  \\\n",
       "1   8.355993       0.038369       -0.114003       1.747550        1.689157   \n",
       "2   9.323578      -0.034917        0.117764       1.531659        1.728964   \n",
       "5  36.189809      -0.796868        0.164766       3.190828        3.281966   \n",
       "6  18.298463       0.591534        0.384114       2.375837        2.546314   \n",
       "7   7.390484       0.608018       -0.379429       1.691941        2.031471   \n",
       "\n",
       "   num_islands  num_pixel_in_shower  photoncharge_shower_mean  \\\n",
       "1            1                    7                  5.209295   \n",
       "2            1                    9                  7.086197   \n",
       "5            1                  100                 26.658584   \n",
       "6            1                   23                  9.051240   \n",
       "7            1                    5                  5.323000   \n",
       "\n",
       "   photoncharge_shower_variance  \n",
       "1                      4.893394  \n",
       "2                      7.917912  \n",
       "5                    901.313791  \n",
       "6                     28.829864  \n",
       "7                      1.362421  "
      ]
     },
     "execution_count": 3,
     "metadata": {},
     "output_type": "execute_result"
    }
   ],
   "source": [
    "y = np.concatenate([np.ones(len(params[params.corsika_run_header_particle_id==1])), np.zeros(len(params[params.corsika_run_header_particle_id==14]))])\n",
    "forbidden_columns = 'ceres_|mc_|corsika_|run_|source_position_|pointing_|aux_|event_num|incident_angle'\n",
    "\n",
    "params = params.filter(regex=f'^(?!{forbidden_columns}).*$')\n",
    "X = params\n",
    "X.head(5)"
   ]
  },
  {
   "cell_type": "code",
   "execution_count": 4,
   "metadata": {},
   "outputs": [],
   "source": [
    "X_test, X_train, y_test, y_train = train_test_split(X, y, test_size=0.2)"
   ]
  },
  {
   "cell_type": "code",
   "execution_count": 5,
   "metadata": {},
   "outputs": [],
   "source": [
    "compare = []\n",
    "for i in range(X.shape[1]):\n",
    "    compare = np.append(compare, np.abs(X.values[:,i][y==1].mean() - X.values[:,i][y==0].mean())**2/(X.values[:,i][y==1].std()**2 + X.values[:,i][y==0].std()**2))\n",
    "index = np.argpartition(compare, -5)[:-5]"
   ]
  },
  {
   "cell_type": "code",
   "execution_count": 6,
   "metadata": {},
   "outputs": [],
   "source": [
    "X_test = X_test[X_test.columns.difference(X_test.keys()[index])]\n",
    "X_train = X_train[X_train.columns.difference(X_train.keys()[index])]"
   ]
  },
  {
   "cell_type": "code",
   "execution_count": 7,
   "metadata": {},
   "outputs": [
    {
     "name": "stdout",
     "output_type": "stream",
     "text": [
      "ROC AUC Random Forest n=1   0.571 +/- 0.003\n",
      "ROC AUC Random Forest n=10  0.612 +/- 0.009\n",
      "ROC AUC Random Forest n=100 0.618 +/- 0.011\n"
     ]
    }
   ],
   "source": [
    "rf1 = RandomForestClassifier(n_estimators=1, min_samples_leaf=5, n_jobs=-1)\n",
    "rf10 = RandomForestClassifier(n_estimators=10, min_samples_leaf=5, n_jobs=-1)\n",
    "rf100 = RandomForestClassifier(n_estimators=100, min_samples_leaf=5, n_jobs=-1)\n",
    "\n",
    "score = cross_validate(rf1, X_train, y_train, scoring=make_scorer(roc_auc_score), cv=5)\n",
    "print('ROC AUC Random Forest n=1   {:0.3f} +/- {:0.3f}'.format(score['test_score'].mean(), score['test_score'].std()))\n",
    "score = cross_validate(rf10, X_train, y_train, scoring=make_scorer(roc_auc_score), cv=5)\n",
    "print('ROC AUC Random Forest n=10  {:0.3f} +/- {:0.3f}'.format(score['test_score'].mean(), score['test_score'].std()))\n",
    "score = cross_validate(rf100, X_train, y_train, scoring=make_scorer(roc_auc_score), cv=5)\n",
    "print('ROC AUC Random Forest n=100 {:0.3f} +/- {:0.3f}'.format(score['test_score'].mean(), score['test_score'].std()))"
   ]
  },
  {
   "cell_type": "code",
   "execution_count": 8,
   "metadata": {},
   "outputs": [],
   "source": [
    "rf100.fit(X_train, y_train)\n",
    "y_prediction_proba = rf100.predict_proba(X_test)"
   ]
  },
  {
   "cell_type": "code",
   "execution_count": 9,
   "metadata": {},
   "outputs": [
    {
     "data": {
      "image/png": "[encoded data removed]",
      "text/plain": [
       "<Figure size 432x288 with 1 Axes>"
      ]
     },
     "metadata": {
      "needs_background": "light"
     },
     "output_type": "display_data"
    }
   ],
   "source": [
    "auc = roc_auc_score(y_test, y_prediction_proba[:, 1])\n",
    "fpr, tpr, thresholds = roc_curve(y_test, y_prediction_proba[:, 1])\n",
    "plt.scatter(fpr, tpr, c=thresholds)\n",
    "plt.plot(fpr, tpr, '--', color='gray', alpha=0.5)\n",
    "plt.text(0.5, 0.5, f'AuC ROC: {auc:0.03f}')\n",
    "None"
   ]
  },
  {
   "cell_type": "code",
   "execution_count": 11,
   "metadata": {},
   "outputs": [
    {
     "data": {
      "image/png": "[encoded data removed]",
      "text/plain": [
       "<Figure size 432x288 with 1 Axes>"
      ]
     },
     "metadata": {
      "needs_background": "light"
     },
     "output_type": "display_data"
    }
   ],
   "source": [
    "bins = np.linspace(0, 20, 100)\n",
    "plt.hist(X[y==1].width, bins=bins, histtype='step', lw=4, label=\"Gamma\")\n",
    "plt.hist(X[y==0].width, bins=bins, histtype='step', lw=4, label=\"Hadron\")\n",
    "plt.legend(loc=\"best\")\n",
    "None"
   ]
  }
 ],
 "metadata": {
  "kernelspec": {
   "display_name": "Python 3",
   "language": "python",
   "name": "python3"
  },
  "language_info": {
   "codemirror_mode": {
    "name": "ipython",
    "version": 3
   },
   "file_extension": ".py",
   "mimetype": "text/x-python",
   "name": "python",
   "nbconvert_exporter": "python",
   "pygments_lexer": "ipython3",
   "version": "3.6.8"
  }
 },
 "nbformat": 4,
 "nbformat_minor": 2
}
