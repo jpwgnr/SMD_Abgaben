{
 "cells": [
  {
   "cell_type": "markdown",
   "metadata": {},
   "source": [
    "## Blatt 7 "
   ]
  },
  {
   "cell_type": "markdown",
   "metadata": {},
   "source": [
    "### Nummer 1 a)"
   ]
  },
  {
   "cell_type": "code",
   "execution_count": 81,
   "metadata": {},
   "outputs": [],
   "source": [
    "import pandas as pd\n",
    "import numpy as np \n",
    "import matplotlib.pyplot as plt\n",
    "from sklearn.model_selection import train_test_split\n",
    "from sklearn.ensemble import RandomForestClassifier\n",
    "from sklearn.metrics import roc_curve, roc_auc_score, make_scorer\n",
    "from sklearn.model_selection import cross_validate"
   ]
  },
  {
   "cell_type": "markdown",
   "metadata": {},
   "source": [
    "Hier werden die Daten eingelesen."
   ]
  },
  {
   "cell_type": "code",
   "execution_count": 82,
   "metadata": {},
   "outputs": [],
   "source": [
    "params = pd.read_hdf(\"./image_parameters_smd_train.hdf5\")"
   ]
  },
  {
   "cell_type": "markdown",
   "metadata": {},
   "source": [
    "Orientiert am Beispiel im Notebook aus der Vorlesung wurden hier einige Features ausgeschlossen, die als irrelevant betrachtet wurden."
   ]
  },
  {
   "cell_type": "code",
   "execution_count": 83,
   "metadata": {},
   "outputs": [],
   "source": [
    "y = np.concatenate([np.ones(len(params[params.corsika_run_header_particle_id==1])), np.zeros(len(params[params.corsika_run_header_particle_id==14]))])\n",
    "forbidden_columns = 'ceres_|mc_|corsika_|run_|source_position_|pointing_|aux_|event_num|incident_angle'\n",
    "\n",
    "params = params.filter(regex=f'^(?!{forbidden_columns}).*$')\n",
    "X = params"
   ]
  },
  {
   "cell_type": "code",
   "execution_count": 84,
   "metadata": {},
   "outputs": [],
   "source": [
    "# Splitten der Daten in Test und Trainingsdaten\n",
    "X_test, X_train, y_test, y_train = train_test_split(X, y, test_size=0.2)"
   ]
  },
  {
   "cell_type": "markdown",
   "metadata": {},
   "source": [
    "### b)"
   ]
  },
  {
   "cell_type": "code",
   "execution_count": 85,
   "metadata": {},
   "outputs": [
    {
     "name": "stdout",
     "output_type": "stream",
     "text": [
      "Die besten fünf Features sind nach dieser Selection 'Index(['concentration_cog', 'leakage1', 'length', 'num_islands', 'width'], dtype='object')'.\n"
     ]
    }
   ],
   "source": [
    "# Bestimmen der F-Statistik und raussortieren der fünf besten Features\n",
    "D = []\n",
    "for i in range(X.shape[1]):\n",
    "    D = np.append(D, np.abs(X.values[:,i][y==1].mean() - X.values[:,i][y==0].mean())**2/(X.values[:,i][y==1].std()**2 + X.values[:,i][y==0].std()**2))\n",
    "index = np.argpartition(D, -5)[:-5]\n",
    "X_test = X_test[X_test.columns.difference(X_test.keys()[index])]\n",
    "X_train = X_train[X_train.columns.difference(X_train.keys()[index])]\n",
    "print(f\"Die besten fünf Features sind nach dieser Selection '{X_test.keys()[:]}'.\")"
   ]
  },
  {
   "cell_type": "markdown",
   "metadata": {},
   "source": [
    "### c)"
   ]
  },
  {
   "cell_type": "code",
   "execution_count": 86,
   "metadata": {},
   "outputs": [
    {
     "name": "stdout",
     "output_type": "stream",
     "text": [
      "ROC AUC Random Forest n=1   0.561 +/- 0.013\n",
      "ROC AUC Random Forest n=10  0.599 +/- 0.009\n",
      "ROC AUC Random Forest n=100 0.615 +/- 0.008\n"
     ]
    }
   ],
   "source": [
    "np.random.seed(12)\n",
    "# Test, welcher estimator am besten ist mittels cross validation auf dem Trainingsdatensatz\n",
    "rf1 = RandomForestClassifier(n_estimators=1, min_samples_leaf=5, n_jobs=-1)\n",
    "rf10 = RandomForestClassifier(n_estimators=10, min_samples_leaf=5, n_jobs=-1)\n",
    "rf100 = RandomForestClassifier(n_estimators=100, min_samples_leaf=10, n_jobs=-1)\n",
    "\n",
    "score = cross_validate(rf1, X_train, y_train, scoring=make_scorer(roc_auc_score), cv=5)\n",
    "print('ROC AUC Random Forest n=1   {:0.3f} +/- {:0.3f}'.format(score['test_score'].mean(), score['test_score'].std()))\n",
    "score = cross_validate(rf10, X_train, y_train, scoring=make_scorer(roc_auc_score), cv=5)\n",
    "print('ROC AUC Random Forest n=10  {:0.3f} +/- {:0.3f}'.format(score['test_score'].mean(), score['test_score'].std()))\n",
    "score = cross_validate(rf100, X_train, y_train, scoring=make_scorer(roc_auc_score), cv=5)\n",
    "print('ROC AUC Random Forest n=100 {:0.3f} +/- {:0.3f}'.format(score['test_score'].mean(), score['test_score'].std()))"
   ]
  },
  {
   "cell_type": "markdown",
   "metadata": {},
   "source": [
    "### d)"
   ]
  },
  {
   "cell_type": "code",
   "execution_count": 87,
   "metadata": {},
   "outputs": [],
   "source": [
    "# Der beste random forrest wurde benutzt um damit tatsächlich die Daten zu trainieren.\n",
    "rf100.fit(X_train, y_train)\n",
    "y_prediction_proba = rf100.predict_proba(X_test)"
   ]
  },
  {
   "cell_type": "markdown",
   "metadata": {},
   "source": [
    "### e)"
   ]
  },
  {
   "cell_type": "code",
   "execution_count": 88,
   "metadata": {},
   "outputs": [
    {
     "data": {
      "image/png": "[encoded data removed]",
      "text/plain": [
       "<Figure size 432x288 with 1 Axes>"
      ]
     },
     "metadata": {
      "needs_background": "light"
     },
     "output_type": "display_data"
    }
   ],
   "source": [
    "#Evaluierung der Daten mittes ROC Kurve und AUC Wert\n",
    "auc = roc_auc_score(y_test, y_prediction_proba[:, 1])\n",
    "fpr, tpr, thresholds = roc_curve(y_test, y_prediction_proba[:, 1])\n",
    "plt.scatter(fpr, tpr, c=thresholds)\n",
    "plt.plot(fpr, tpr, '--', color='gray', alpha=0.5)\n",
    "plt.text(0.5, 0.5, f'AuC ROC: {auc:0.03f}')\n",
    "None"
   ]
  },
  {
   "cell_type": "code",
   "execution_count": 89,
   "metadata": {},
   "outputs": [
    {
     "data": {
      "image/png": "[encoded data removed]",
      "text/plain": [
       "<Figure size 432x288 with 1 Axes>"
      ]
     },
     "metadata": {
      "needs_background": "light"
     },
     "output_type": "display_data"
    }
   ],
   "source": [
    "# Plot der Verteilung der Ereignisse entlang des classification scores.\n",
    "plt.hist(y_prediction_proba[:,1][y_test==1], bins=100, histtype='step', lw=4, label=\"Gamma\")\n",
    "plt.hist(y_prediction_proba[:,1][y_test==0], bins=100, histtype='step', lw=4, label=\"Hadron\")\n",
    "plt.legend(loc=\"best\")\n",
    "None"
   ]
  },
  {
   "cell_type": "markdown",
   "metadata": {},
   "source": [
    "Daher sieht man, dass es nicht möglich ist, den Untergrund und das Signal zu trennen. \n",
    "Bei einem perfekten Klassifizierer wäre Untergrund und Signal komplett voneinander getrennt worden."
   ]
  }
 ],
 "metadata": {
  "kernelspec": {
   "display_name": "Python 3",
   "language": "python",
   "name": "python3"
  },
  "language_info": {
   "codemirror_mode": {
    "name": "ipython",
    "version": 3
   },
   "file_extension": ".py",
   "mimetype": "text/x-python",
   "name": "python",
   "nbconvert_exporter": "python",
   "pygments_lexer": "ipython3",
   "version": "3.6.8"
  }
 },
 "nbformat": 4,
 "nbformat_minor": 2
}
